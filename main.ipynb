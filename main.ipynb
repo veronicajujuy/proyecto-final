{
 "cells": [
  {
   "cell_type": "markdown",
   "id": "ee39dd47",
   "metadata": {},
   "source": [
    "### **Avance 2 - Proyecto Final**"
   ]
  },
  {
   "cell_type": "code",
   "execution_count": 8,
   "id": "2b1d5621",
   "metadata": {},
   "outputs": [],
   "source": [
    "## Conectarse a la base de datos\n",
    "\n",
    "from src.db.database import DBConnection\n",
    "db1 = DBConnection()"
   ]
  },
  {
   "cell_type": "code",
   "execution_count": 2,
   "id": "3c69fc4a",
   "metadata": {},
   "outputs": [
    {
     "data": {
      "application/vnd.microsoft.datawrangler.viewer.v0+json": {
       "columns": [
        {
         "name": "index",
         "rawType": "int64",
         "type": "integer"
        },
        {
         "name": "Nombre",
         "rawType": "object",
         "type": "string"
        },
        {
         "name": "Apellido",
         "rawType": "object",
         "type": "string"
        },
        {
         "name": "Genero",
         "rawType": "object",
         "type": "string"
        },
        {
         "name": "FechaContratacion",
         "rawType": "datetime64[ns]",
         "type": "datetime"
        },
        {
         "name": "Ciudad",
         "rawType": "object",
         "type": "string"
        },
        {
         "name": "Pais",
         "rawType": "object",
         "type": "string"
        }
       ],
       "ref": "6c91ff19-4a76-490e-be94-34eb6da2b40d",
       "rows": [
        [
         "0",
         "Nicole",
         "Fuller",
         "F",
         "2011-06-20 07:15:37",
         "New Orleans",
         "United States"
        ],
        [
         "1",
         "Christine",
         "Palmer",
         "F",
         "2011-04-27 04:07:57",
         "Fremont",
         "United States"
        ],
        [
         "2",
         "Pablo",
         "Cline",
         "M",
         "2012-03-30 18:55:23",
         "Rochester",
         "United States"
        ],
        [
         "3",
         "Darnell",
         "Nielsen",
         "M",
         "2014-03-06 06:55:03",
         "Lubbock",
         "United States"
        ],
        [
         "4",
         "Desiree",
         "Stuart",
         "F",
         "2014-11-16 22:59:55",
         "Anaheim",
         "United States"
        ]
       ],
       "shape": {
        "columns": 6,
        "rows": 5
       }
      },
      "text/html": [
       "<div>\n",
       "<style scoped>\n",
       "    .dataframe tbody tr th:only-of-type {\n",
       "        vertical-align: middle;\n",
       "    }\n",
       "\n",
       "    .dataframe tbody tr th {\n",
       "        vertical-align: top;\n",
       "    }\n",
       "\n",
       "    .dataframe thead th {\n",
       "        text-align: right;\n",
       "    }\n",
       "</style>\n",
       "<table border=\"1\" class=\"dataframe\">\n",
       "  <thead>\n",
       "    <tr style=\"text-align: right;\">\n",
       "      <th></th>\n",
       "      <th>Nombre</th>\n",
       "      <th>Apellido</th>\n",
       "      <th>Genero</th>\n",
       "      <th>FechaContratacion</th>\n",
       "      <th>Ciudad</th>\n",
       "      <th>Pais</th>\n",
       "    </tr>\n",
       "  </thead>\n",
       "  <tbody>\n",
       "    <tr>\n",
       "      <th>0</th>\n",
       "      <td>Nicole</td>\n",
       "      <td>Fuller</td>\n",
       "      <td>F</td>\n",
       "      <td>2011-06-20 07:15:37</td>\n",
       "      <td>New Orleans</td>\n",
       "      <td>United States</td>\n",
       "    </tr>\n",
       "    <tr>\n",
       "      <th>1</th>\n",
       "      <td>Christine</td>\n",
       "      <td>Palmer</td>\n",
       "      <td>F</td>\n",
       "      <td>2011-04-27 04:07:57</td>\n",
       "      <td>Fremont</td>\n",
       "      <td>United States</td>\n",
       "    </tr>\n",
       "    <tr>\n",
       "      <th>2</th>\n",
       "      <td>Pablo</td>\n",
       "      <td>Cline</td>\n",
       "      <td>M</td>\n",
       "      <td>2012-03-30 18:55:23</td>\n",
       "      <td>Rochester</td>\n",
       "      <td>United States</td>\n",
       "    </tr>\n",
       "    <tr>\n",
       "      <th>3</th>\n",
       "      <td>Darnell</td>\n",
       "      <td>Nielsen</td>\n",
       "      <td>M</td>\n",
       "      <td>2014-03-06 06:55:03</td>\n",
       "      <td>Lubbock</td>\n",
       "      <td>United States</td>\n",
       "    </tr>\n",
       "    <tr>\n",
       "      <th>4</th>\n",
       "      <td>Desiree</td>\n",
       "      <td>Stuart</td>\n",
       "      <td>F</td>\n",
       "      <td>2014-11-16 22:59:55</td>\n",
       "      <td>Anaheim</td>\n",
       "      <td>United States</td>\n",
       "    </tr>\n",
       "  </tbody>\n",
       "</table>\n",
       "</div>"
      ],
      "text/plain": [
       "      Nombre Apellido Genero   FechaContratacion       Ciudad           Pais\n",
       "0     Nicole   Fuller      F 2011-06-20 07:15:37  New Orleans  United States\n",
       "1  Christine   Palmer      F 2011-04-27 04:07:57      Fremont  United States\n",
       "2      Pablo    Cline      M 2012-03-30 18:55:23    Rochester  United States\n",
       "3    Darnell  Nielsen      M 2014-03-06 06:55:03      Lubbock  United States\n",
       "4    Desiree   Stuart      F 2014-11-16 22:59:55      Anaheim  United States"
      ]
     },
     "execution_count": 2,
     "metadata": {},
     "output_type": "execute_result"
    }
   ],
   "source": [
    "# Ejecutar una query utilizando el método execute_query\n",
    "# y guardar el resultado en un DataFrame de pandas\n",
    "\n",
    "query = \"\"\"\n",
    "select FirstName as Nombre, LastName as Apellido, Gender as Genero, HireDate as FechaContratacion,\n",
    "CityName as Ciudad, CountryName as Pais from employees e join cities c on e.cityid = c.cityid\n",
    "join countries co on c.countryID= co.countryID LIMIT 5;\n",
    "\"\"\"\n",
    "df = db1.execute_query(query)\n",
    "df"
   ]
  },
  {
   "cell_type": "markdown",
   "id": "34bca078",
   "metadata": {},
   "source": [
    "### **Patrones de diseño**"
   ]
  },
  {
   "cell_type": "markdown",
   "id": "15d9045d",
   "metadata": {},
   "source": [
    "**Patron Singleton**"
   ]
  },
  {
   "cell_type": "code",
   "execution_count": 3,
   "id": "2e433db3",
   "metadata": {},
   "outputs": [
    {
     "name": "stdout",
     "output_type": "stream",
     "text": [
      "Es la misma instancia? True\n",
      "Es la misma base de datos? True\n"
     ]
    }
   ],
   "source": [
    "## Verificar Patron Singleton\n",
    "\n",
    "db1 = DBConnection()\n",
    "db2 = DBConnection()\n",
    "\n",
    "print(\"Es la misma instancia?\", db1 is db2)\n",
    "print(\"Es la misma base de datos?\", db1.engine.url == db2.engine.url)"
   ]
  },
  {
   "cell_type": "code",
   "execution_count": 10,
   "id": "1a1fe237",
   "metadata": {},
   "outputs": [],
   "source": [
    "# Esto no creará una nueva conexión, sino que reutilizará la existente\n",
    "\n",
    "db = DBConnection()"
   ]
  },
  {
   "cell_type": "markdown",
   "id": "0d5128d4",
   "metadata": {},
   "source": [
    "**Patron Factory**"
   ]
  },
  {
   "cell_type": "code",
   "execution_count": 11,
   "id": "fd66bbf6",
   "metadata": {},
   "outputs": [
    {
     "data": {
      "text/plain": [
       "{'sale_id': 2494538,\n",
       " 'product_id': 405,\n",
       " 'product_name': 'Pastry - Raisin Muffin - Mini',\n",
       " 'quantity': 1,\n",
       " 'customer_id': 1,\n",
       " 'customer_name': 'Frye, Stefanie Y.',\n",
       " 'employee_id': 2,\n",
       " 'employee_name': 'Palmer, Christine W.',\n",
       " 'total_price': Decimal('2.00')}"
      ]
     },
     "execution_count": 11,
     "metadata": {},
     "output_type": "execute_result"
    }
   ],
   "source": [
    "## Implementación del patrón Factory\n",
    "\n",
    "## SalesSummary\n",
    "## Esta clase usa el patrón Factory y permite crear objetos de tipo SalesSummary a partir de un DataFrame de pandas. Lo que permite realizar una sola vez una query\n",
    "## compleja y luego crear múltiples instancias de SalesSummary sin necesidad de repetir la consulta a la base de datos.\n",
    "\n",
    "from src.design_patterns.factory import SalesSummary\n",
    "\n",
    "query_sales = \"\"\"\n",
    "select SalesID, s.ProductID, ProductName, Quantity, TotalPrice, c.CustomerID, coalesce(concat( c.LastName, \", \", c.FirstName, \" \", c.MiddleInitial, \".\"), \"Sin nombre\") as CustomerName,\n",
    "e.EmployeeID, concat(e.LastName, \", \", e.FirstName, \" \", e.MiddleInitial, \".\") as EmployeeName\n",
    "from sales s join products p on s.productid = p.ProductID\n",
    "join customers c on s.CustomerID = c.CustomerID \n",
    "join employees e on s.SalesPersonID = e.EmployeeID\n",
    "order by c.CustomerID;\n",
    "\"\"\"\n",
    "df_sales = db.execute_query(query_sales)\n",
    "sales = [SalesSummary.from_series(row) for _, row in df_sales.iterrows()]\n",
    "sales[0].__dict__"
   ]
  },
  {
   "cell_type": "code",
   "execution_count": 7,
   "id": "68946a30",
   "metadata": {},
   "outputs": [
    {
     "data": {
      "text/plain": [
       "{'customer_id': 103,\n",
       " 'first_name': 'Jana',\n",
       " 'middle_initial': 'Q',\n",
       " 'last_name': 'Huang',\n",
       " 'address': '841 Hague Road',\n",
       " 'city_name': 'Dayton',\n",
       " 'country_name': 'United States'}"
      ]
     },
     "execution_count": 7,
     "metadata": {},
     "output_type": "execute_result"
    }
   ],
   "source": [
    "## Implementación del patrón Factory\n",
    "\n",
    "## CustomerLocationInfo\n",
    "# Esta clase usa el patrón Factory y permite crear objetos de tipo CustomerLocationInfo a partir de un DataFrame de pandas. \n",
    "# Lo que permite realizar una sola vez una query\n",
    "\n",
    "from src.design_patterns.factory import CustomerLocationInfo\n",
    "\n",
    "## CustomerLocationInfo\n",
    "query_customer_location = \"\"\"\n",
    "select CustomerID, FirstName, coalesce(MiddleInitial, \"\") as MiddleInitial, LastName, Address, CityName, CountryName\n",
    "from customers cu join cities ci on cu.cityID = ci.CityID\n",
    "join countries co on ci.CountryID = co.CountryID;\n",
    "\"\"\"\n",
    "df_customer_location = db.execute_query(query_customer_location)\n",
    "customer_locations = [CustomerLocationInfo.from_series(row) for _, row in df_customer_location.iterrows()]\n",
    "customer_locations[0].__dict__\n"
   ]
  },
  {
   "cell_type": "code",
   "execution_count": 15,
   "id": "0781fa57",
   "metadata": {},
   "outputs": [
    {
     "data": {
      "application/vnd.microsoft.datawrangler.viewer.v0+json": {
       "columns": [
        {
         "name": "index",
         "rawType": "int64",
         "type": "integer"
        },
        {
         "name": "IDVendedor",
         "rawType": "int64",
         "type": "integer"
        },
        {
         "name": "Nombre Apellido Vendedor",
         "rawType": "object",
         "type": "string"
        },
        {
         "name": "TotalVentas",
         "rawType": "object",
         "type": "unknown"
        }
       ],
       "ref": "f7f1c31b-7ccf-416b-b355-681608c52998",
       "rows": [
        [
         "17",
         "18",
         "Bartlett, Warren C.",
         "512154.00"
        ],
        [
         "20",
         "21",
         "Brewer, Devon D.",
         "618744.00"
        ],
        [
         "13",
         "14",
         "Buckley, Wendi G.",
         "406812.00"
        ],
        [
         "11",
         "12",
         "Chen, Lindsay M.",
         "338664.00"
        ],
        [
         "2",
         "3",
         "Cline, Pablo Y.",
         "83925.00"
        ],
        [
         "5",
         "6",
         "Collins, Holly E.",
         "171600.00"
        ],
        [
         "6",
         "7",
         "Cook, Chadwick P.",
         "195111.00"
        ],
        [
         "10",
         "11",
         "Dickson, Sonya E.",
         "308726.00"
        ],
        [
         "7",
         "8",
         "Dyer, Julie E.",
         "241680.00"
        ],
        [
         "14",
         "15",
         "Finley, Kari D.",
         "416940.00"
        ],
        [
         "22",
         "23",
         "Flowers, Janet K.",
         "665091.00"
        ],
        [
         "16",
         "17",
         "Franco, Seth D.",
         "463658.00"
        ],
        [
         "0",
         "1",
         "Fuller, Nicole T.",
         "28287.00"
        ],
        [
         "8",
         "9",
         "King, Daphne X.",
         "251775.00"
        ],
        [
         "12",
         "13",
         "Marks, Katina Y.",
         "368511.00"
        ],
        [
         "21",
         "22",
         "Mc Millan, Tonia O.",
         "631158.00"
        ],
        [
         "18",
         "19",
         "Moody, Bernard L.",
         "538954.00"
        ],
        [
         "3",
         "4",
         "Nielsen, Darnell O.",
         "110060.00"
        ],
        [
         "1",
         "2",
         "Palmer, Christine W.",
         "58174.00"
        ],
        [
         "19",
         "20",
         "Riddle, Shelby P.",
         "569220.00"
        ],
        [
         "4",
         "5",
         "Stuart, Desiree L.",
         "140985.00"
        ],
        [
         "9",
         "10",
         "Vang, Jean P.",
         "284590.00"
        ],
        [
         "15",
         "16",
         "Walton, Chadwick U.",
         "458800.00"
        ]
       ],
       "shape": {
        "columns": 3,
        "rows": 23
       }
      },
      "text/html": [
       "<div>\n",
       "<style scoped>\n",
       "    .dataframe tbody tr th:only-of-type {\n",
       "        vertical-align: middle;\n",
       "    }\n",
       "\n",
       "    .dataframe tbody tr th {\n",
       "        vertical-align: top;\n",
       "    }\n",
       "\n",
       "    .dataframe thead th {\n",
       "        text-align: right;\n",
       "    }\n",
       "</style>\n",
       "<table border=\"1\" class=\"dataframe\">\n",
       "  <thead>\n",
       "    <tr style=\"text-align: right;\">\n",
       "      <th></th>\n",
       "      <th>IDVendedor</th>\n",
       "      <th>Nombre Apellido Vendedor</th>\n",
       "      <th>TotalVentas</th>\n",
       "    </tr>\n",
       "  </thead>\n",
       "  <tbody>\n",
       "    <tr>\n",
       "      <th>17</th>\n",
       "      <td>18</td>\n",
       "      <td>Bartlett, Warren C.</td>\n",
       "      <td>512154.00</td>\n",
       "    </tr>\n",
       "    <tr>\n",
       "      <th>20</th>\n",
       "      <td>21</td>\n",
       "      <td>Brewer, Devon D.</td>\n",
       "      <td>618744.00</td>\n",
       "    </tr>\n",
       "    <tr>\n",
       "      <th>13</th>\n",
       "      <td>14</td>\n",
       "      <td>Buckley, Wendi G.</td>\n",
       "      <td>406812.00</td>\n",
       "    </tr>\n",
       "    <tr>\n",
       "      <th>11</th>\n",
       "      <td>12</td>\n",
       "      <td>Chen, Lindsay M.</td>\n",
       "      <td>338664.00</td>\n",
       "    </tr>\n",
       "    <tr>\n",
       "      <th>2</th>\n",
       "      <td>3</td>\n",
       "      <td>Cline, Pablo Y.</td>\n",
       "      <td>83925.00</td>\n",
       "    </tr>\n",
       "    <tr>\n",
       "      <th>5</th>\n",
       "      <td>6</td>\n",
       "      <td>Collins, Holly E.</td>\n",
       "      <td>171600.00</td>\n",
       "    </tr>\n",
       "    <tr>\n",
       "      <th>6</th>\n",
       "      <td>7</td>\n",
       "      <td>Cook, Chadwick P.</td>\n",
       "      <td>195111.00</td>\n",
       "    </tr>\n",
       "    <tr>\n",
       "      <th>10</th>\n",
       "      <td>11</td>\n",
       "      <td>Dickson, Sonya E.</td>\n",
       "      <td>308726.00</td>\n",
       "    </tr>\n",
       "    <tr>\n",
       "      <th>7</th>\n",
       "      <td>8</td>\n",
       "      <td>Dyer, Julie E.</td>\n",
       "      <td>241680.00</td>\n",
       "    </tr>\n",
       "    <tr>\n",
       "      <th>14</th>\n",
       "      <td>15</td>\n",
       "      <td>Finley, Kari D.</td>\n",
       "      <td>416940.00</td>\n",
       "    </tr>\n",
       "    <tr>\n",
       "      <th>22</th>\n",
       "      <td>23</td>\n",
       "      <td>Flowers, Janet K.</td>\n",
       "      <td>665091.00</td>\n",
       "    </tr>\n",
       "    <tr>\n",
       "      <th>16</th>\n",
       "      <td>17</td>\n",
       "      <td>Franco, Seth D.</td>\n",
       "      <td>463658.00</td>\n",
       "    </tr>\n",
       "    <tr>\n",
       "      <th>0</th>\n",
       "      <td>1</td>\n",
       "      <td>Fuller, Nicole T.</td>\n",
       "      <td>28287.00</td>\n",
       "    </tr>\n",
       "    <tr>\n",
       "      <th>8</th>\n",
       "      <td>9</td>\n",
       "      <td>King, Daphne X.</td>\n",
       "      <td>251775.00</td>\n",
       "    </tr>\n",
       "    <tr>\n",
       "      <th>12</th>\n",
       "      <td>13</td>\n",
       "      <td>Marks, Katina Y.</td>\n",
       "      <td>368511.00</td>\n",
       "    </tr>\n",
       "    <tr>\n",
       "      <th>21</th>\n",
       "      <td>22</td>\n",
       "      <td>Mc Millan, Tonia O.</td>\n",
       "      <td>631158.00</td>\n",
       "    </tr>\n",
       "    <tr>\n",
       "      <th>18</th>\n",
       "      <td>19</td>\n",
       "      <td>Moody, Bernard L.</td>\n",
       "      <td>538954.00</td>\n",
       "    </tr>\n",
       "    <tr>\n",
       "      <th>3</th>\n",
       "      <td>4</td>\n",
       "      <td>Nielsen, Darnell O.</td>\n",
       "      <td>110060.00</td>\n",
       "    </tr>\n",
       "    <tr>\n",
       "      <th>1</th>\n",
       "      <td>2</td>\n",
       "      <td>Palmer, Christine W.</td>\n",
       "      <td>58174.00</td>\n",
       "    </tr>\n",
       "    <tr>\n",
       "      <th>19</th>\n",
       "      <td>20</td>\n",
       "      <td>Riddle, Shelby P.</td>\n",
       "      <td>569220.00</td>\n",
       "    </tr>\n",
       "    <tr>\n",
       "      <th>4</th>\n",
       "      <td>5</td>\n",
       "      <td>Stuart, Desiree L.</td>\n",
       "      <td>140985.00</td>\n",
       "    </tr>\n",
       "    <tr>\n",
       "      <th>9</th>\n",
       "      <td>10</td>\n",
       "      <td>Vang, Jean P.</td>\n",
       "      <td>284590.00</td>\n",
       "    </tr>\n",
       "    <tr>\n",
       "      <th>15</th>\n",
       "      <td>16</td>\n",
       "      <td>Walton, Chadwick U.</td>\n",
       "      <td>458800.00</td>\n",
       "    </tr>\n",
       "  </tbody>\n",
       "</table>\n",
       "</div>"
      ],
      "text/plain": [
       "    IDVendedor Nombre Apellido Vendedor TotalVentas\n",
       "17          18      Bartlett, Warren C.   512154.00\n",
       "20          21         Brewer, Devon D.   618744.00\n",
       "13          14        Buckley, Wendi G.   406812.00\n",
       "11          12         Chen, Lindsay M.   338664.00\n",
       "2            3          Cline, Pablo Y.    83925.00\n",
       "5            6        Collins, Holly E.   171600.00\n",
       "6            7        Cook, Chadwick P.   195111.00\n",
       "10          11        Dickson, Sonya E.   308726.00\n",
       "7            8           Dyer, Julie E.   241680.00\n",
       "14          15          Finley, Kari D.   416940.00\n",
       "22          23        Flowers, Janet K.   665091.00\n",
       "16          17          Franco, Seth D.   463658.00\n",
       "0            1        Fuller, Nicole T.    28287.00\n",
       "8            9          King, Daphne X.   251775.00\n",
       "12          13         Marks, Katina Y.   368511.00\n",
       "21          22      Mc Millan, Tonia O.   631158.00\n",
       "18          19        Moody, Bernard L.   538954.00\n",
       "3            4      Nielsen, Darnell O.   110060.00\n",
       "1            2     Palmer, Christine W.    58174.00\n",
       "19          20        Riddle, Shelby P.   569220.00\n",
       "4            5       Stuart, Desiree L.   140985.00\n",
       "9           10            Vang, Jean P.   284590.00\n",
       "15          16      Walton, Chadwick U.   458800.00"
      ]
     },
     "execution_count": 15,
     "metadata": {},
     "output_type": "execute_result"
    }
   ],
   "source": [
    "## Implementación del patrón Strategy\n",
    "# reutilizamos la query obtenida anteriormente para generar reportes de ventas totales por empleado.\n",
    "# esta clase usa el patrón strategy y la estrategia es \"TotalSalesByEmployee\", que calcula las ventas totales por empleado.\n",
    "\n",
    "from src.design_patterns.strategy import TotalSalesByEmployee\n",
    "\n",
    "report = TotalSalesByEmployee()\n",
    "report.generate_report(df_sales,\"EmployeeName\")"
   ]
  },
  {
   "cell_type": "code",
   "execution_count": 16,
   "id": "8e65fab5",
   "metadata": {},
   "outputs": [
    {
     "data": {
      "application/vnd.microsoft.datawrangler.viewer.v0+json": {
       "columns": [
        {
         "name": "index",
         "rawType": "int64",
         "type": "integer"
        },
        {
         "name": "IDVendedor",
         "rawType": "int64",
         "type": "integer"
        },
        {
         "name": "Nombre Apellido Vendedor",
         "rawType": "object",
         "type": "string"
        },
        {
         "name": "Promedio de ventas",
         "rawType": "object",
         "type": "unknown"
        }
       ],
       "ref": "fd8617ec-c306-4dcc-9a92-1c4e9733168a",
       "rows": [
        [
         "17",
         "18",
         "Bartlett, Warren C.",
         "232.26938775510203"
        ],
        [
         "20",
         "21",
         "Brewer, Devon D.",
         "275.2419928825623"
        ],
        [
         "13",
         "14",
         "Buckley, Wendi G.",
         "181.45049063336307"
        ],
        [
         "11",
         "12",
         "Chen, Lindsay M.",
         "156.21033210332104"
        ],
        [
         "2",
         "3",
         "Cline, Pablo Y.",
         "39.662098298676746"
        ],
        [
         "5",
         "6",
         "Collins, Holly E.",
         "78.49954254345838"
        ],
        [
         "6",
         "7",
         "Cook, Chadwick P.",
         "91.90343853038154"
        ],
        [
         "10",
         "11",
         "Dickson, Sonya E.",
         "143.46003717472118"
        ],
        [
         "7",
         "8",
         "Dyer, Julie E.",
         "106.32644082710075"
        ],
        [
         "14",
         "15",
         "Finley, Kari D.",
         "197.41477272727272"
        ],
        [
         "22",
         "23",
         "Flowers, Janet K.",
         "303.6945205479452"
        ],
        [
         "16",
         "17",
         "Franco, Seth D.",
         "221.63384321223708"
        ],
        [
         "0",
         "1",
         "Fuller, Nicole T.",
         "13.089773253123553"
        ],
        [
         "8",
         "9",
         "King, Daphne X.",
         "116.94147700882489"
        ],
        [
         "12",
         "13",
         "Marks, Katina Y.",
         "169.2746899402848"
        ],
        [
         "21",
         "22",
         "Mc Millan, Tonia O.",
         "292.2027777777778"
        ],
        [
         "18",
         "19",
         "Moody, Bernard L.",
         "249.74698795180723"
        ],
        [
         "3",
         "4",
         "Nielsen, Darnell O.",
         "52.03782505910166"
        ],
        [
         "1",
         "2",
         "Palmer, Christine W.",
         "25.83214920071048"
        ],
        [
         "19",
         "20",
         "Riddle, Shelby P.",
         "263.0406654343808"
        ],
        [
         "4",
         "5",
         "Stuart, Desiree L.",
         "65.0"
        ],
        [
         "9",
         "10",
         "Vang, Jean P.",
         "130.6057824690225"
        ],
        [
         "15",
         "16",
         "Walton, Chadwick U.",
         "208.07256235827666"
        ]
       ],
       "shape": {
        "columns": 3,
        "rows": 23
       }
      },
      "text/html": [
       "<div>\n",
       "<style scoped>\n",
       "    .dataframe tbody tr th:only-of-type {\n",
       "        vertical-align: middle;\n",
       "    }\n",
       "\n",
       "    .dataframe tbody tr th {\n",
       "        vertical-align: top;\n",
       "    }\n",
       "\n",
       "    .dataframe thead th {\n",
       "        text-align: right;\n",
       "    }\n",
       "</style>\n",
       "<table border=\"1\" class=\"dataframe\">\n",
       "  <thead>\n",
       "    <tr style=\"text-align: right;\">\n",
       "      <th></th>\n",
       "      <th>IDVendedor</th>\n",
       "      <th>Nombre Apellido Vendedor</th>\n",
       "      <th>Promedio de ventas</th>\n",
       "    </tr>\n",
       "  </thead>\n",
       "  <tbody>\n",
       "    <tr>\n",
       "      <th>17</th>\n",
       "      <td>18</td>\n",
       "      <td>Bartlett, Warren C.</td>\n",
       "      <td>232.269388</td>\n",
       "    </tr>\n",
       "    <tr>\n",
       "      <th>20</th>\n",
       "      <td>21</td>\n",
       "      <td>Brewer, Devon D.</td>\n",
       "      <td>275.241993</td>\n",
       "    </tr>\n",
       "    <tr>\n",
       "      <th>13</th>\n",
       "      <td>14</td>\n",
       "      <td>Buckley, Wendi G.</td>\n",
       "      <td>181.450491</td>\n",
       "    </tr>\n",
       "    <tr>\n",
       "      <th>11</th>\n",
       "      <td>12</td>\n",
       "      <td>Chen, Lindsay M.</td>\n",
       "      <td>156.210332</td>\n",
       "    </tr>\n",
       "    <tr>\n",
       "      <th>2</th>\n",
       "      <td>3</td>\n",
       "      <td>Cline, Pablo Y.</td>\n",
       "      <td>39.662098</td>\n",
       "    </tr>\n",
       "    <tr>\n",
       "      <th>5</th>\n",
       "      <td>6</td>\n",
       "      <td>Collins, Holly E.</td>\n",
       "      <td>78.499543</td>\n",
       "    </tr>\n",
       "    <tr>\n",
       "      <th>6</th>\n",
       "      <td>7</td>\n",
       "      <td>Cook, Chadwick P.</td>\n",
       "      <td>91.903439</td>\n",
       "    </tr>\n",
       "    <tr>\n",
       "      <th>10</th>\n",
       "      <td>11</td>\n",
       "      <td>Dickson, Sonya E.</td>\n",
       "      <td>143.460037</td>\n",
       "    </tr>\n",
       "    <tr>\n",
       "      <th>7</th>\n",
       "      <td>8</td>\n",
       "      <td>Dyer, Julie E.</td>\n",
       "      <td>106.326441</td>\n",
       "    </tr>\n",
       "    <tr>\n",
       "      <th>14</th>\n",
       "      <td>15</td>\n",
       "      <td>Finley, Kari D.</td>\n",
       "      <td>197.414773</td>\n",
       "    </tr>\n",
       "    <tr>\n",
       "      <th>22</th>\n",
       "      <td>23</td>\n",
       "      <td>Flowers, Janet K.</td>\n",
       "      <td>303.694521</td>\n",
       "    </tr>\n",
       "    <tr>\n",
       "      <th>16</th>\n",
       "      <td>17</td>\n",
       "      <td>Franco, Seth D.</td>\n",
       "      <td>221.633843</td>\n",
       "    </tr>\n",
       "    <tr>\n",
       "      <th>0</th>\n",
       "      <td>1</td>\n",
       "      <td>Fuller, Nicole T.</td>\n",
       "      <td>13.089773</td>\n",
       "    </tr>\n",
       "    <tr>\n",
       "      <th>8</th>\n",
       "      <td>9</td>\n",
       "      <td>King, Daphne X.</td>\n",
       "      <td>116.941477</td>\n",
       "    </tr>\n",
       "    <tr>\n",
       "      <th>12</th>\n",
       "      <td>13</td>\n",
       "      <td>Marks, Katina Y.</td>\n",
       "      <td>169.27469</td>\n",
       "    </tr>\n",
       "    <tr>\n",
       "      <th>21</th>\n",
       "      <td>22</td>\n",
       "      <td>Mc Millan, Tonia O.</td>\n",
       "      <td>292.202778</td>\n",
       "    </tr>\n",
       "    <tr>\n",
       "      <th>18</th>\n",
       "      <td>19</td>\n",
       "      <td>Moody, Bernard L.</td>\n",
       "      <td>249.746988</td>\n",
       "    </tr>\n",
       "    <tr>\n",
       "      <th>3</th>\n",
       "      <td>4</td>\n",
       "      <td>Nielsen, Darnell O.</td>\n",
       "      <td>52.037825</td>\n",
       "    </tr>\n",
       "    <tr>\n",
       "      <th>1</th>\n",
       "      <td>2</td>\n",
       "      <td>Palmer, Christine W.</td>\n",
       "      <td>25.832149</td>\n",
       "    </tr>\n",
       "    <tr>\n",
       "      <th>19</th>\n",
       "      <td>20</td>\n",
       "      <td>Riddle, Shelby P.</td>\n",
       "      <td>263.040665</td>\n",
       "    </tr>\n",
       "    <tr>\n",
       "      <th>4</th>\n",
       "      <td>5</td>\n",
       "      <td>Stuart, Desiree L.</td>\n",
       "      <td>65.0</td>\n",
       "    </tr>\n",
       "    <tr>\n",
       "      <th>9</th>\n",
       "      <td>10</td>\n",
       "      <td>Vang, Jean P.</td>\n",
       "      <td>130.605782</td>\n",
       "    </tr>\n",
       "    <tr>\n",
       "      <th>15</th>\n",
       "      <td>16</td>\n",
       "      <td>Walton, Chadwick U.</td>\n",
       "      <td>208.072562</td>\n",
       "    </tr>\n",
       "  </tbody>\n",
       "</table>\n",
       "</div>"
      ],
      "text/plain": [
       "    IDVendedor Nombre Apellido Vendedor Promedio de ventas\n",
       "17          18      Bartlett, Warren C.         232.269388\n",
       "20          21         Brewer, Devon D.         275.241993\n",
       "13          14        Buckley, Wendi G.         181.450491\n",
       "11          12         Chen, Lindsay M.         156.210332\n",
       "2            3          Cline, Pablo Y.          39.662098\n",
       "5            6        Collins, Holly E.          78.499543\n",
       "6            7        Cook, Chadwick P.          91.903439\n",
       "10          11        Dickson, Sonya E.         143.460037\n",
       "7            8           Dyer, Julie E.         106.326441\n",
       "14          15          Finley, Kari D.         197.414773\n",
       "22          23        Flowers, Janet K.         303.694521\n",
       "16          17          Franco, Seth D.         221.633843\n",
       "0            1        Fuller, Nicole T.          13.089773\n",
       "8            9          King, Daphne X.         116.941477\n",
       "12          13         Marks, Katina Y.          169.27469\n",
       "21          22      Mc Millan, Tonia O.         292.202778\n",
       "18          19        Moody, Bernard L.         249.746988\n",
       "3            4      Nielsen, Darnell O.          52.037825\n",
       "1            2     Palmer, Christine W.          25.832149\n",
       "19          20        Riddle, Shelby P.         263.040665\n",
       "4            5       Stuart, Desiree L.               65.0\n",
       "9           10            Vang, Jean P.         130.605782\n",
       "15          16      Walton, Chadwick U.         208.072562"
      ]
     },
     "execution_count": 16,
     "metadata": {},
     "output_type": "execute_result"
    }
   ],
   "source": [
    "## Implementación del patrón Strategy\n",
    "# tambien reutilizamos la query obtenida anteriormente para generar reportes de ventas promedio por empleado.\n",
    "# esta clase usa el patrón strategy y la estrategia es \"AverageSalesByEmployee\", que calcula las ventas promedio por empleado.\n",
    "\n",
    "from src.design_patterns.strategy import AverageSalesByEmployee\n",
    "\n",
    "report = AverageSalesByEmployee()\n",
    "report.generate_report(df_sales,\"EmployeeName\")"
   ]
  },
  {
   "cell_type": "code",
   "execution_count": 13,
   "id": "f24d4e06",
   "metadata": {},
   "outputs": [
    {
     "data": {
      "application/vnd.microsoft.datawrangler.viewer.v0+json": {
       "columns": [
        {
         "name": "index",
         "rawType": "int64",
         "type": "integer"
        },
        {
         "name": "IDVendedor",
         "rawType": "int64",
         "type": "integer"
        },
        {
         "name": "Nombre Apellido Vendedor",
         "rawType": "object",
         "type": "string"
        },
        {
         "name": "Cantidad de productos vendidos",
         "rawType": "int64",
         "type": "integer"
        }
       ],
       "ref": "99eee01a-c77a-491b-8775-912d93f600e3",
       "rows": [
        [
         "7",
         "8",
         "Dyer, Julie E.",
         "2273"
        ],
        [
         "1",
         "2",
         "Palmer, Christine W.",
         "2252"
        ],
        [
         "20",
         "21",
         "Brewer, Devon D.",
         "2248"
        ],
        [
         "13",
         "14",
         "Buckley, Wendi G.",
         "2242"
        ],
        [
         "15",
         "16",
         "Walton, Chadwick U.",
         "2205"
        ],
        [
         "17",
         "18",
         "Bartlett, Warren C.",
         "2205"
        ],
        [
         "22",
         "23",
         "Flowers, Janet K.",
         "2190"
        ],
        [
         "5",
         "6",
         "Collins, Holly E.",
         "2186"
        ],
        [
         "9",
         "10",
         "Vang, Jean P.",
         "2179"
        ],
        [
         "12",
         "13",
         "Marks, Katina Y.",
         "2177"
        ],
        [
         "4",
         "5",
         "Stuart, Desiree L.",
         "2169"
        ],
        [
         "11",
         "12",
         "Chen, Lindsay M.",
         "2168"
        ],
        [
         "19",
         "20",
         "Riddle, Shelby P.",
         "2164"
        ],
        [
         "0",
         "1",
         "Fuller, Nicole T.",
         "2161"
        ],
        [
         "21",
         "22",
         "Mc Millan, Tonia O.",
         "2160"
        ],
        [
         "18",
         "19",
         "Moody, Bernard L.",
         "2158"
        ],
        [
         "8",
         "9",
         "King, Daphne X.",
         "2153"
        ],
        [
         "10",
         "11",
         "Dickson, Sonya E.",
         "2152"
        ],
        [
         "6",
         "7",
         "Cook, Chadwick P.",
         "2123"
        ],
        [
         "2",
         "3",
         "Cline, Pablo Y.",
         "2116"
        ],
        [
         "3",
         "4",
         "Nielsen, Darnell O.",
         "2115"
        ],
        [
         "14",
         "15",
         "Finley, Kari D.",
         "2112"
        ],
        [
         "16",
         "17",
         "Franco, Seth D.",
         "2092"
        ]
       ],
       "shape": {
        "columns": 3,
        "rows": 23
       }
      },
      "text/html": [
       "<div>\n",
       "<style scoped>\n",
       "    .dataframe tbody tr th:only-of-type {\n",
       "        vertical-align: middle;\n",
       "    }\n",
       "\n",
       "    .dataframe tbody tr th {\n",
       "        vertical-align: top;\n",
       "    }\n",
       "\n",
       "    .dataframe thead th {\n",
       "        text-align: right;\n",
       "    }\n",
       "</style>\n",
       "<table border=\"1\" class=\"dataframe\">\n",
       "  <thead>\n",
       "    <tr style=\"text-align: right;\">\n",
       "      <th></th>\n",
       "      <th>IDVendedor</th>\n",
       "      <th>Nombre Apellido Vendedor</th>\n",
       "      <th>Cantidad de productos vendidos</th>\n",
       "    </tr>\n",
       "  </thead>\n",
       "  <tbody>\n",
       "    <tr>\n",
       "      <th>7</th>\n",
       "      <td>8</td>\n",
       "      <td>Dyer, Julie E.</td>\n",
       "      <td>2273</td>\n",
       "    </tr>\n",
       "    <tr>\n",
       "      <th>1</th>\n",
       "      <td>2</td>\n",
       "      <td>Palmer, Christine W.</td>\n",
       "      <td>2252</td>\n",
       "    </tr>\n",
       "    <tr>\n",
       "      <th>20</th>\n",
       "      <td>21</td>\n",
       "      <td>Brewer, Devon D.</td>\n",
       "      <td>2248</td>\n",
       "    </tr>\n",
       "    <tr>\n",
       "      <th>13</th>\n",
       "      <td>14</td>\n",
       "      <td>Buckley, Wendi G.</td>\n",
       "      <td>2242</td>\n",
       "    </tr>\n",
       "    <tr>\n",
       "      <th>15</th>\n",
       "      <td>16</td>\n",
       "      <td>Walton, Chadwick U.</td>\n",
       "      <td>2205</td>\n",
       "    </tr>\n",
       "    <tr>\n",
       "      <th>17</th>\n",
       "      <td>18</td>\n",
       "      <td>Bartlett, Warren C.</td>\n",
       "      <td>2205</td>\n",
       "    </tr>\n",
       "    <tr>\n",
       "      <th>22</th>\n",
       "      <td>23</td>\n",
       "      <td>Flowers, Janet K.</td>\n",
       "      <td>2190</td>\n",
       "    </tr>\n",
       "    <tr>\n",
       "      <th>5</th>\n",
       "      <td>6</td>\n",
       "      <td>Collins, Holly E.</td>\n",
       "      <td>2186</td>\n",
       "    </tr>\n",
       "    <tr>\n",
       "      <th>9</th>\n",
       "      <td>10</td>\n",
       "      <td>Vang, Jean P.</td>\n",
       "      <td>2179</td>\n",
       "    </tr>\n",
       "    <tr>\n",
       "      <th>12</th>\n",
       "      <td>13</td>\n",
       "      <td>Marks, Katina Y.</td>\n",
       "      <td>2177</td>\n",
       "    </tr>\n",
       "    <tr>\n",
       "      <th>4</th>\n",
       "      <td>5</td>\n",
       "      <td>Stuart, Desiree L.</td>\n",
       "      <td>2169</td>\n",
       "    </tr>\n",
       "    <tr>\n",
       "      <th>11</th>\n",
       "      <td>12</td>\n",
       "      <td>Chen, Lindsay M.</td>\n",
       "      <td>2168</td>\n",
       "    </tr>\n",
       "    <tr>\n",
       "      <th>19</th>\n",
       "      <td>20</td>\n",
       "      <td>Riddle, Shelby P.</td>\n",
       "      <td>2164</td>\n",
       "    </tr>\n",
       "    <tr>\n",
       "      <th>0</th>\n",
       "      <td>1</td>\n",
       "      <td>Fuller, Nicole T.</td>\n",
       "      <td>2161</td>\n",
       "    </tr>\n",
       "    <tr>\n",
       "      <th>21</th>\n",
       "      <td>22</td>\n",
       "      <td>Mc Millan, Tonia O.</td>\n",
       "      <td>2160</td>\n",
       "    </tr>\n",
       "    <tr>\n",
       "      <th>18</th>\n",
       "      <td>19</td>\n",
       "      <td>Moody, Bernard L.</td>\n",
       "      <td>2158</td>\n",
       "    </tr>\n",
       "    <tr>\n",
       "      <th>8</th>\n",
       "      <td>9</td>\n",
       "      <td>King, Daphne X.</td>\n",
       "      <td>2153</td>\n",
       "    </tr>\n",
       "    <tr>\n",
       "      <th>10</th>\n",
       "      <td>11</td>\n",
       "      <td>Dickson, Sonya E.</td>\n",
       "      <td>2152</td>\n",
       "    </tr>\n",
       "    <tr>\n",
       "      <th>6</th>\n",
       "      <td>7</td>\n",
       "      <td>Cook, Chadwick P.</td>\n",
       "      <td>2123</td>\n",
       "    </tr>\n",
       "    <tr>\n",
       "      <th>2</th>\n",
       "      <td>3</td>\n",
       "      <td>Cline, Pablo Y.</td>\n",
       "      <td>2116</td>\n",
       "    </tr>\n",
       "    <tr>\n",
       "      <th>3</th>\n",
       "      <td>4</td>\n",
       "      <td>Nielsen, Darnell O.</td>\n",
       "      <td>2115</td>\n",
       "    </tr>\n",
       "    <tr>\n",
       "      <th>14</th>\n",
       "      <td>15</td>\n",
       "      <td>Finley, Kari D.</td>\n",
       "      <td>2112</td>\n",
       "    </tr>\n",
       "    <tr>\n",
       "      <th>16</th>\n",
       "      <td>17</td>\n",
       "      <td>Franco, Seth D.</td>\n",
       "      <td>2092</td>\n",
       "    </tr>\n",
       "  </tbody>\n",
       "</table>\n",
       "</div>"
      ],
      "text/plain": [
       "    IDVendedor Nombre Apellido Vendedor  Cantidad de productos vendidos\n",
       "7            8           Dyer, Julie E.                            2273\n",
       "1            2     Palmer, Christine W.                            2252\n",
       "20          21         Brewer, Devon D.                            2248\n",
       "13          14        Buckley, Wendi G.                            2242\n",
       "15          16      Walton, Chadwick U.                            2205\n",
       "17          18      Bartlett, Warren C.                            2205\n",
       "22          23        Flowers, Janet K.                            2190\n",
       "5            6        Collins, Holly E.                            2186\n",
       "9           10            Vang, Jean P.                            2179\n",
       "12          13         Marks, Katina Y.                            2177\n",
       "4            5       Stuart, Desiree L.                            2169\n",
       "11          12         Chen, Lindsay M.                            2168\n",
       "19          20        Riddle, Shelby P.                            2164\n",
       "0            1        Fuller, Nicole T.                            2161\n",
       "21          22      Mc Millan, Tonia O.                            2160\n",
       "18          19        Moody, Bernard L.                            2158\n",
       "8            9          King, Daphne X.                            2153\n",
       "10          11        Dickson, Sonya E.                            2152\n",
       "6            7        Cook, Chadwick P.                            2123\n",
       "2            3          Cline, Pablo Y.                            2116\n",
       "3            4      Nielsen, Darnell O.                            2115\n",
       "14          15          Finley, Kari D.                            2112\n",
       "16          17          Franco, Seth D.                            2092"
      ]
     },
     "execution_count": 13,
     "metadata": {},
     "output_type": "execute_result"
    }
   ],
   "source": [
    "from src.design_patterns.strategy import ProductSalesByEmployee\n",
    "report = ProductSalesByEmployee()\n",
    "report.generate_report(df_sales, \"ProductID\", False)"
   ]
  },
  {
   "cell_type": "code",
   "execution_count": 25,
   "id": "5e49f6f5",
   "metadata": {},
   "outputs": [
    {
     "data": {
      "application/vnd.microsoft.datawrangler.viewer.v0+json": {
       "columns": [
        {
         "name": "index",
         "rawType": "int64",
         "type": "integer"
        },
        {
         "name": "IDVendedor",
         "rawType": "int64",
         "type": "integer"
        },
        {
         "name": "Nombre Apellido Vendedor",
         "rawType": "object",
         "type": "string"
        },
        {
         "name": "TotalVentas",
         "rawType": "object",
         "type": "unknown"
        },
        {
         "name": "Promedio de ventas",
         "rawType": "object",
         "type": "unknown"
        },
        {
         "name": "Cantidad de productos vendidos",
         "rawType": "int64",
         "type": "integer"
        }
       ],
       "ref": "85ee35b8-43c5-4881-96bf-bf090e14b86c",
       "rows": [
        [
         "0",
         "18",
         "Bartlett, Warren C.",
         "512154.00",
         "232.26938775510203",
         "2205"
        ],
        [
         "1",
         "21",
         "Brewer, Devon D.",
         "618744.00",
         "275.2419928825623",
         "2248"
        ],
        [
         "2",
         "14",
         "Buckley, Wendi G.",
         "406812.00",
         "181.45049063336307",
         "2242"
        ],
        [
         "3",
         "12",
         "Chen, Lindsay M.",
         "338664.00",
         "156.21033210332104",
         "2168"
        ],
        [
         "4",
         "3",
         "Cline, Pablo Y.",
         "83925.00",
         "39.662098298676746",
         "2116"
        ],
        [
         "5",
         "6",
         "Collins, Holly E.",
         "171600.00",
         "78.49954254345838",
         "2186"
        ],
        [
         "6",
         "7",
         "Cook, Chadwick P.",
         "195111.00",
         "91.90343853038154",
         "2123"
        ],
        [
         "7",
         "11",
         "Dickson, Sonya E.",
         "308726.00",
         "143.46003717472118",
         "2152"
        ],
        [
         "8",
         "8",
         "Dyer, Julie E.",
         "241680.00",
         "106.32644082710075",
         "2273"
        ],
        [
         "9",
         "15",
         "Finley, Kari D.",
         "416940.00",
         "197.41477272727272",
         "2112"
        ],
        [
         "10",
         "23",
         "Flowers, Janet K.",
         "665091.00",
         "303.6945205479452",
         "2190"
        ],
        [
         "11",
         "17",
         "Franco, Seth D.",
         "463658.00",
         "221.63384321223708",
         "2092"
        ],
        [
         "12",
         "1",
         "Fuller, Nicole T.",
         "28287.00",
         "13.089773253123553",
         "2161"
        ],
        [
         "13",
         "9",
         "King, Daphne X.",
         "251775.00",
         "116.94147700882489",
         "2153"
        ],
        [
         "14",
         "13",
         "Marks, Katina Y.",
         "368511.00",
         "169.2746899402848",
         "2177"
        ],
        [
         "15",
         "22",
         "Mc Millan, Tonia O.",
         "631158.00",
         "292.2027777777778",
         "2160"
        ],
        [
         "16",
         "19",
         "Moody, Bernard L.",
         "538954.00",
         "249.74698795180723",
         "2158"
        ],
        [
         "17",
         "4",
         "Nielsen, Darnell O.",
         "110060.00",
         "52.03782505910166",
         "2115"
        ],
        [
         "18",
         "2",
         "Palmer, Christine W.",
         "58174.00",
         "25.83214920071048",
         "2252"
        ],
        [
         "19",
         "20",
         "Riddle, Shelby P.",
         "569220.00",
         "263.0406654343808",
         "2164"
        ],
        [
         "20",
         "5",
         "Stuart, Desiree L.",
         "140985.00",
         "65.0",
         "2169"
        ],
        [
         "21",
         "10",
         "Vang, Jean P.",
         "284590.00",
         "130.6057824690225",
         "2179"
        ],
        [
         "22",
         "16",
         "Walton, Chadwick U.",
         "458800.00",
         "208.07256235827666",
         "2205"
        ]
       ],
       "shape": {
        "columns": 5,
        "rows": 23
       }
      },
      "text/html": [
       "<div>\n",
       "<style scoped>\n",
       "    .dataframe tbody tr th:only-of-type {\n",
       "        vertical-align: middle;\n",
       "    }\n",
       "\n",
       "    .dataframe tbody tr th {\n",
       "        vertical-align: top;\n",
       "    }\n",
       "\n",
       "    .dataframe thead th {\n",
       "        text-align: right;\n",
       "    }\n",
       "</style>\n",
       "<table border=\"1\" class=\"dataframe\">\n",
       "  <thead>\n",
       "    <tr style=\"text-align: right;\">\n",
       "      <th></th>\n",
       "      <th>IDVendedor</th>\n",
       "      <th>Nombre Apellido Vendedor</th>\n",
       "      <th>TotalVentas</th>\n",
       "      <th>Promedio de ventas</th>\n",
       "      <th>Cantidad de productos vendidos</th>\n",
       "    </tr>\n",
       "  </thead>\n",
       "  <tbody>\n",
       "    <tr>\n",
       "      <th>0</th>\n",
       "      <td>18</td>\n",
       "      <td>Bartlett, Warren C.</td>\n",
       "      <td>512154.00</td>\n",
       "      <td>232.269388</td>\n",
       "      <td>2205</td>\n",
       "    </tr>\n",
       "    <tr>\n",
       "      <th>1</th>\n",
       "      <td>21</td>\n",
       "      <td>Brewer, Devon D.</td>\n",
       "      <td>618744.00</td>\n",
       "      <td>275.241993</td>\n",
       "      <td>2248</td>\n",
       "    </tr>\n",
       "    <tr>\n",
       "      <th>2</th>\n",
       "      <td>14</td>\n",
       "      <td>Buckley, Wendi G.</td>\n",
       "      <td>406812.00</td>\n",
       "      <td>181.450491</td>\n",
       "      <td>2242</td>\n",
       "    </tr>\n",
       "    <tr>\n",
       "      <th>3</th>\n",
       "      <td>12</td>\n",
       "      <td>Chen, Lindsay M.</td>\n",
       "      <td>338664.00</td>\n",
       "      <td>156.210332</td>\n",
       "      <td>2168</td>\n",
       "    </tr>\n",
       "    <tr>\n",
       "      <th>4</th>\n",
       "      <td>3</td>\n",
       "      <td>Cline, Pablo Y.</td>\n",
       "      <td>83925.00</td>\n",
       "      <td>39.662098</td>\n",
       "      <td>2116</td>\n",
       "    </tr>\n",
       "    <tr>\n",
       "      <th>5</th>\n",
       "      <td>6</td>\n",
       "      <td>Collins, Holly E.</td>\n",
       "      <td>171600.00</td>\n",
       "      <td>78.499543</td>\n",
       "      <td>2186</td>\n",
       "    </tr>\n",
       "    <tr>\n",
       "      <th>6</th>\n",
       "      <td>7</td>\n",
       "      <td>Cook, Chadwick P.</td>\n",
       "      <td>195111.00</td>\n",
       "      <td>91.903439</td>\n",
       "      <td>2123</td>\n",
       "    </tr>\n",
       "    <tr>\n",
       "      <th>7</th>\n",
       "      <td>11</td>\n",
       "      <td>Dickson, Sonya E.</td>\n",
       "      <td>308726.00</td>\n",
       "      <td>143.460037</td>\n",
       "      <td>2152</td>\n",
       "    </tr>\n",
       "    <tr>\n",
       "      <th>8</th>\n",
       "      <td>8</td>\n",
       "      <td>Dyer, Julie E.</td>\n",
       "      <td>241680.00</td>\n",
       "      <td>106.326441</td>\n",
       "      <td>2273</td>\n",
       "    </tr>\n",
       "    <tr>\n",
       "      <th>9</th>\n",
       "      <td>15</td>\n",
       "      <td>Finley, Kari D.</td>\n",
       "      <td>416940.00</td>\n",
       "      <td>197.414773</td>\n",
       "      <td>2112</td>\n",
       "    </tr>\n",
       "    <tr>\n",
       "      <th>10</th>\n",
       "      <td>23</td>\n",
       "      <td>Flowers, Janet K.</td>\n",
       "      <td>665091.00</td>\n",
       "      <td>303.694521</td>\n",
       "      <td>2190</td>\n",
       "    </tr>\n",
       "    <tr>\n",
       "      <th>11</th>\n",
       "      <td>17</td>\n",
       "      <td>Franco, Seth D.</td>\n",
       "      <td>463658.00</td>\n",
       "      <td>221.633843</td>\n",
       "      <td>2092</td>\n",
       "    </tr>\n",
       "    <tr>\n",
       "      <th>12</th>\n",
       "      <td>1</td>\n",
       "      <td>Fuller, Nicole T.</td>\n",
       "      <td>28287.00</td>\n",
       "      <td>13.089773</td>\n",
       "      <td>2161</td>\n",
       "    </tr>\n",
       "    <tr>\n",
       "      <th>13</th>\n",
       "      <td>9</td>\n",
       "      <td>King, Daphne X.</td>\n",
       "      <td>251775.00</td>\n",
       "      <td>116.941477</td>\n",
       "      <td>2153</td>\n",
       "    </tr>\n",
       "    <tr>\n",
       "      <th>14</th>\n",
       "      <td>13</td>\n",
       "      <td>Marks, Katina Y.</td>\n",
       "      <td>368511.00</td>\n",
       "      <td>169.27469</td>\n",
       "      <td>2177</td>\n",
       "    </tr>\n",
       "    <tr>\n",
       "      <th>15</th>\n",
       "      <td>22</td>\n",
       "      <td>Mc Millan, Tonia O.</td>\n",
       "      <td>631158.00</td>\n",
       "      <td>292.202778</td>\n",
       "      <td>2160</td>\n",
       "    </tr>\n",
       "    <tr>\n",
       "      <th>16</th>\n",
       "      <td>19</td>\n",
       "      <td>Moody, Bernard L.</td>\n",
       "      <td>538954.00</td>\n",
       "      <td>249.746988</td>\n",
       "      <td>2158</td>\n",
       "    </tr>\n",
       "    <tr>\n",
       "      <th>17</th>\n",
       "      <td>4</td>\n",
       "      <td>Nielsen, Darnell O.</td>\n",
       "      <td>110060.00</td>\n",
       "      <td>52.037825</td>\n",
       "      <td>2115</td>\n",
       "    </tr>\n",
       "    <tr>\n",
       "      <th>18</th>\n",
       "      <td>2</td>\n",
       "      <td>Palmer, Christine W.</td>\n",
       "      <td>58174.00</td>\n",
       "      <td>25.832149</td>\n",
       "      <td>2252</td>\n",
       "    </tr>\n",
       "    <tr>\n",
       "      <th>19</th>\n",
       "      <td>20</td>\n",
       "      <td>Riddle, Shelby P.</td>\n",
       "      <td>569220.00</td>\n",
       "      <td>263.040665</td>\n",
       "      <td>2164</td>\n",
       "    </tr>\n",
       "    <tr>\n",
       "      <th>20</th>\n",
       "      <td>5</td>\n",
       "      <td>Stuart, Desiree L.</td>\n",
       "      <td>140985.00</td>\n",
       "      <td>65.0</td>\n",
       "      <td>2169</td>\n",
       "    </tr>\n",
       "    <tr>\n",
       "      <th>21</th>\n",
       "      <td>10</td>\n",
       "      <td>Vang, Jean P.</td>\n",
       "      <td>284590.00</td>\n",
       "      <td>130.605782</td>\n",
       "      <td>2179</td>\n",
       "    </tr>\n",
       "    <tr>\n",
       "      <th>22</th>\n",
       "      <td>16</td>\n",
       "      <td>Walton, Chadwick U.</td>\n",
       "      <td>458800.00</td>\n",
       "      <td>208.072562</td>\n",
       "      <td>2205</td>\n",
       "    </tr>\n",
       "  </tbody>\n",
       "</table>\n",
       "</div>"
      ],
      "text/plain": [
       "    IDVendedor  ... Cantidad de productos vendidos\n",
       "0           18  ...                           2205\n",
       "1           21  ...                           2248\n",
       "2           14  ...                           2242\n",
       "3           12  ...                           2168\n",
       "4            3  ...                           2116\n",
       "5            6  ...                           2186\n",
       "6            7  ...                           2123\n",
       "7           11  ...                           2152\n",
       "8            8  ...                           2273\n",
       "9           15  ...                           2112\n",
       "10          23  ...                           2190\n",
       "11          17  ...                           2092\n",
       "12           1  ...                           2161\n",
       "13           9  ...                           2153\n",
       "14          13  ...                           2177\n",
       "15          22  ...                           2160\n",
       "16          19  ...                           2158\n",
       "17           4  ...                           2115\n",
       "18           2  ...                           2252\n",
       "19          20  ...                           2164\n",
       "20           5  ...                           2169\n",
       "21          10  ...                           2179\n",
       "22          16  ...                           2205\n",
       "\n",
       "[23 rows x 5 columns]"
      ]
     },
     "execution_count": 25,
     "metadata": {},
     "output_type": "execute_result"
    }
   ],
   "source": [
    "## Implementación del patron Builder\n",
    "# En esta celda se utiliza el patrón de diseño Builder para generar y combinar múltiples reportes de ventas a partir de un mismo DataFrame.\n",
    "# ReportBuilder permite agregar diferentes estrategias de reporte (por ejemplo, ventas totales, promedio y por producto) \n",
    "# y construir todos los informes de manera flexible y escalable.\n",
    "# Finalmente, se obtiene un reporte combinado (\"CombinedReport\") que integra los resultados de todas las estrategias aplicadas, \n",
    "# facilitando el análisis comparativo de la información.\n",
    "# tambien puede generar reportes individuales como \"TotalSalesByEmployee\", \"AverageSalesByEmployee\" y \"ProductSalesByEmployee\".\n",
    "\n",
    "from src.design_patterns.builder import ReportBuilder\n",
    "\n",
    "builder = ReportBuilder()\n",
    "\n",
    "reports = (\n",
    "    builder.set_dataframe(df_sales)\n",
    "    .set_combined_sorting(\"EmployeeName\", True)\n",
    "    .add_report(TotalSalesByEmployee())\n",
    "    .add_report(AverageSalesByEmployee())\n",
    "    .add_report(ProductSalesByEmployee())\n",
    "    .build_all()\n",
    ")\n",
    "\n",
    "# Descomentar las siguientes líneas para ver los reportes individuales\n",
    "# reports[\"ProductSalesByEmployee\"]\n",
    "# reports[\"TotalSalesByEmployee\"]\n",
    "# reports[\"AverageSalesByEmployee\"]\n",
    "\n",
    "# Reporte combinado que integra todos los reportes individuales\n",
    "reports[\"CombinedReport\"] "
   ]
  },
  {
   "cell_type": "markdown",
   "id": "39ada117",
   "metadata": {},
   "source": [
    "### **Tests**"
   ]
  },
  {
   "cell_type": "code",
   "execution_count": null,
   "id": "cb67648a",
   "metadata": {},
   "outputs": [
    {
     "name": "stdout",
     "output_type": "stream",
     "text": [
      "\u001b[1m============================= test session starts =============================\u001b[0m\n",
      "platform win32 -- Python 3.13.3, pytest-8.3.5, pluggy-1.6.0 -- C:\\Users\\veron\\OneDrive\\Documentos\\curso Henry\\Proyecto-Final\\env-final\\Scripts\\python.exe\n",
      "cachedir: .pytest_cache\n",
      "rootdir: c:\\Users\\veron\\OneDrive\\Documentos\\curso Henry\\Proyecto-Final\n",
      "configfile: pytest.ini\n",
      "\u001b[1mcollecting ... \u001b[0mcollected 1 item\n",
      "\n",
      "tests/test_singleton_instance.py::test_singleton_instance \u001b[32mPASSED\u001b[0m\u001b[32m         [100%]\u001b[0m\n",
      "\n",
      "\u001b[32m============================== \u001b[32m\u001b[1m1 passed\u001b[0m\u001b[32m in 1.20s\u001b[0m\u001b[32m ==============================\u001b[0m\n"
     ]
    }
   ],
   "source": [
    "# Verificar que la clase DBConnection sigue el patrón Singleton\n",
    "# Se ejecuta el test para verificar que la clase DBConnection sigue el patrón Singleton\n",
    "\n",
    "!pytest tests/test_singleton_instance.py -v\n"
   ]
  },
  {
   "cell_type": "code",
   "execution_count": null,
   "id": "9ee98978",
   "metadata": {},
   "outputs": [
    {
     "name": "stdout",
     "output_type": "stream",
     "text": [
      "\u001b[1m============================= test session starts =============================\u001b[0m\n",
      "platform win32 -- Python 3.13.3, pytest-8.3.5, pluggy-1.6.0 -- C:\\Users\\veron\\OneDrive\\Documentos\\curso Henry\\Proyecto-Final\\env-final\\Scripts\\python.exe\n",
      "cachedir: .pytest_cache\n",
      "rootdir: c:\\Users\\veron\\OneDrive\\Documentos\\curso Henry\\Proyecto-Final\n",
      "configfile: pytest.ini\n",
      "\u001b[1mcollecting ... \u001b[0mcollected 3 items\n",
      "\n",
      "tests/test_factory.py::test_sales_summary_creation \u001b[32mPASSED\u001b[0m\u001b[32m                [ 33%]\u001b[0m\n",
      "tests/test_factory.py::test_customer_location_info_creation \u001b[32mPASSED\u001b[0m\u001b[32m       [ 66%]\u001b[0m\n",
      "tests/test_factory.py::test_customer_location_info_missing_columns \u001b[32mPASSED\u001b[0m\u001b[32m [100%]\u001b[0m\n",
      "\n",
      "\u001b[32m============================== \u001b[32m\u001b[1m3 passed\u001b[0m\u001b[32m in 0.44s\u001b[0m\u001b[32m ==============================\u001b[0m\n"
     ]
    }
   ],
   "source": [
    "# Testando la clase SalesSummary que implementa el patrón Factory\n",
    "\n",
    "!pytest tests/test_factory.py -v"
   ]
  },
  {
   "cell_type": "code",
   "execution_count": 6,
   "id": "c6bae323",
   "metadata": {},
   "outputs": [
    {
     "name": "stdout",
     "output_type": "stream",
     "text": [
      "\u001b[1m============================= test session starts =============================\u001b[0m\n",
      "platform win32 -- Python 3.13.3, pytest-8.3.5, pluggy-1.6.0 -- C:\\Users\\veron\\OneDrive\\Documentos\\curso Henry\\Proyecto-Final\\env-final\\Scripts\\python.exe\n",
      "cachedir: .pytest_cache\n",
      "rootdir: c:\\Users\\veron\\OneDrive\\Documentos\\curso Henry\\Proyecto-Final\n",
      "configfile: pytest.ini\n",
      "\u001b[1mcollecting ... \u001b[0mcollected 5 items\n",
      "\n",
      "tests/test_strategy.py::test_product_sales_by_employee \u001b[32mPASSED\u001b[0m\u001b[32m            [ 20%]\u001b[0m\n",
      "tests/test_strategy.py::test_product_by_employee_sorting_by_name \u001b[32mPASSED\u001b[0m\u001b[32m  [ 40%]\u001b[0m\n",
      "tests/test_strategy.py::test_product_by_employee_sorting_by_total_price \u001b[32mPASSED\u001b[0m\u001b[32m [ 60%]\u001b[0m\n",
      "tests/test_strategy.py::test_total_sales_by_employee \u001b[32mPASSED\u001b[0m\u001b[32m              [ 80%]\u001b[0m\n",
      "tests/test_strategy.py::test_average_sales_by_employee \u001b[32mPASSED\u001b[0m\u001b[32m            [100%]\u001b[0m\n",
      "\n",
      "\u001b[32m============================== \u001b[32m\u001b[1m5 passed\u001b[0m\u001b[32m in 0.43s\u001b[0m\u001b[32m ==============================\u001b[0m\n"
     ]
    }
   ],
   "source": [
    "# Testeando las Clases que implementan el patrón Strategy:\n",
    "# TotalSalesByEmployee, AverageSalesByEmployee y ProductSalesByEmployee\n",
    "\n",
    "!pytest tests/test_strategy.py -v"
   ]
  },
  {
   "cell_type": "code",
   "execution_count": 26,
   "id": "fec4b0ac",
   "metadata": {},
   "outputs": [
    {
     "name": "stdout",
     "output_type": "stream",
     "text": [
      "\u001b[1m============================= test session starts =============================\u001b[0m\n",
      "platform win32 -- Python 3.13.3, pytest-8.3.5, pluggy-1.6.0 -- C:\\Users\\veron\\OneDrive\\Documentos\\curso Henry\\Proyecto-Final\\env-final\\Scripts\\python.exe\n",
      "cachedir: .pytest_cache\n",
      "rootdir: c:\\Users\\veron\\OneDrive\\Documentos\\curso Henry\\Proyecto-Final\n",
      "configfile: pytest.ini\n",
      "\u001b[1mcollecting ... \u001b[0mcollected 1 item\n",
      "\n",
      "tests/test_builder.py::test_report_builder_add_report \u001b[32mPASSED\u001b[0m\u001b[32m             [100%]\u001b[0m\n",
      "\n",
      "\u001b[32m============================== \u001b[32m\u001b[1m1 passed\u001b[0m\u001b[32m in 0.41s\u001b[0m\u001b[32m ==============================\u001b[0m\n"
     ]
    }
   ],
   "source": [
    "# Teasteando la clase ReportBuilder que implementa el patrón Builder\n",
    "# Esta clase permite generar reportes de ventas utilizando diferentes estrategias y combinarlos en un reporte final.\n",
    "\n",
    "!pytest tests/test_builder.py -v"
   ]
  },
  {
   "cell_type": "code",
   "execution_count": 46,
   "id": "b0259cc7",
   "metadata": {},
   "outputs": [
    {
     "data": {
      "text/plain": [
       "<module 'src.design_patterns.strategy' from 'c:\\\\Users\\\\veron\\\\OneDrive\\\\Documentos\\\\curso Henry\\\\Proyecto-Final\\\\src\\\\design_patterns\\\\strategy.py'>"
      ]
     },
     "execution_count": 46,
     "metadata": {},
     "output_type": "execute_result"
    }
   ],
   "source": [
    "import importlib\n",
    "import src.design_patterns.strategy\n",
    "importlib.reload(src.design_patterns.strategy)"
   ]
  },
  {
   "cell_type": "code",
   "execution_count": 64,
   "id": "38b214bf",
   "metadata": {},
   "outputs": [
    {
     "data": {
      "text/plain": [
       "<module 'src.design_patterns.builder' from 'c:\\\\Users\\\\veron\\\\OneDrive\\\\Documentos\\\\curso Henry\\\\Proyecto-Final\\\\src\\\\design_patterns\\\\builder.py'>"
      ]
     },
     "execution_count": 64,
     "metadata": {},
     "output_type": "execute_result"
    }
   ],
   "source": [
    "import importlib\n",
    "import src.design_patterns.builder\n",
    "importlib.reload(src.design_patterns.builder)"
   ]
  }
 ],
 "metadata": {
  "kernelspec": {
   "display_name": "env-final",
   "language": "python",
   "name": "python3"
  },
  "language_info": {
   "codemirror_mode": {
    "name": "ipython",
    "version": 3
   },
   "file_extension": ".py",
   "mimetype": "text/x-python",
   "name": "python",
   "nbconvert_exporter": "python",
   "pygments_lexer": "ipython3",
   "version": "3.13.3"
  }
 },
 "nbformat": 4,
 "nbformat_minor": 5
}
