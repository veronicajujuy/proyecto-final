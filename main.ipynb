{
 "cells": [
  {
   "cell_type": "markdown",
   "id": "ee39dd47",
   "metadata": {},
   "source": [
    "### **Avance 2 - Proyecto Final**"
   ]
  },
  {
   "cell_type": "code",
   "execution_count": 3,
   "id": "2b1d5621",
   "metadata": {},
   "outputs": [],
   "source": [
    "from src.db.database import DBConnection\n",
    "db1 = DBConnection()"
   ]
  },
  {
   "cell_type": "code",
   "execution_count": 4,
   "id": "3c69fc4a",
   "metadata": {},
   "outputs": [
    {
     "name": "stdout",
     "output_type": "stream",
     "text": [
      "2025-06-02 11:46:12,963 INFO sqlalchemy.engine.Engine SELECT DATABASE()\n",
      "2025-06-02 11:46:12,963 INFO sqlalchemy.engine.Engine [raw sql] {}\n",
      "2025-06-02 11:46:12,968 INFO sqlalchemy.engine.Engine SELECT @@sql_mode\n",
      "2025-06-02 11:46:12,969 INFO sqlalchemy.engine.Engine [raw sql] {}\n",
      "2025-06-02 11:46:12,970 INFO sqlalchemy.engine.Engine SELECT @@lower_case_table_names\n",
      "2025-06-02 11:46:12,971 INFO sqlalchemy.engine.Engine [raw sql] {}\n",
      "2025-06-02 11:46:12,973 INFO sqlalchemy.engine.Engine BEGIN (implicit)\n",
      "2025-06-02 11:46:12,973 INFO sqlalchemy.engine.Engine \n",
      "select FirstName as Nombre, LastName as Apellido, Gender as Genero, HireDate as FechaContratacion,\n",
      "CityName as Ciudad, CountryName as Pais from employees e join cities c on e.cityid = c.cityid\n",
      "join countries co on c.countryID= co.countryID LIMIT 5;\n",
      "\n",
      "2025-06-02 11:46:12,974 INFO sqlalchemy.engine.Engine [generated in 0.00130s] {}\n",
      "2025-06-02 11:46:12,977 INFO sqlalchemy.engine.Engine ROLLBACK\n"
     ]
    },
    {
     "data": {
      "application/vnd.microsoft.datawrangler.viewer.v0+json": {
       "columns": [
        {
         "name": "index",
         "rawType": "int64",
         "type": "integer"
        },
        {
         "name": "Nombre",
         "rawType": "object",
         "type": "string"
        },
        {
         "name": "Apellido",
         "rawType": "object",
         "type": "string"
        },
        {
         "name": "Genero",
         "rawType": "object",
         "type": "string"
        },
        {
         "name": "FechaContratacion",
         "rawType": "datetime64[ns]",
         "type": "datetime"
        },
        {
         "name": "Ciudad",
         "rawType": "object",
         "type": "string"
        },
        {
         "name": "Pais",
         "rawType": "object",
         "type": "string"
        }
       ],
       "ref": "bb68cdce-9437-422b-b3a5-86447dc39aa0",
       "rows": [
        [
         "0",
         "Nicole",
         "Fuller",
         "F",
         "2011-06-20 07:15:37",
         "New Orleans",
         "United States"
        ],
        [
         "1",
         "Christine",
         "Palmer",
         "F",
         "2011-04-27 04:07:57",
         "Fremont",
         "United States"
        ],
        [
         "2",
         "Pablo",
         "Cline",
         "M",
         "2012-03-30 18:55:23",
         "Rochester",
         "United States"
        ],
        [
         "3",
         "Darnell",
         "Nielsen",
         "M",
         "2014-03-06 06:55:03",
         "Lubbock",
         "United States"
        ],
        [
         "4",
         "Desiree",
         "Stuart",
         "F",
         "2014-11-16 22:59:55",
         "Anaheim",
         "United States"
        ]
       ],
       "shape": {
        "columns": 6,
        "rows": 5
       }
      },
      "text/html": [
       "<div>\n",
       "<style scoped>\n",
       "    .dataframe tbody tr th:only-of-type {\n",
       "        vertical-align: middle;\n",
       "    }\n",
       "\n",
       "    .dataframe tbody tr th {\n",
       "        vertical-align: top;\n",
       "    }\n",
       "\n",
       "    .dataframe thead th {\n",
       "        text-align: right;\n",
       "    }\n",
       "</style>\n",
       "<table border=\"1\" class=\"dataframe\">\n",
       "  <thead>\n",
       "    <tr style=\"text-align: right;\">\n",
       "      <th></th>\n",
       "      <th>Nombre</th>\n",
       "      <th>Apellido</th>\n",
       "      <th>Genero</th>\n",
       "      <th>FechaContratacion</th>\n",
       "      <th>Ciudad</th>\n",
       "      <th>Pais</th>\n",
       "    </tr>\n",
       "  </thead>\n",
       "  <tbody>\n",
       "    <tr>\n",
       "      <th>0</th>\n",
       "      <td>Nicole</td>\n",
       "      <td>Fuller</td>\n",
       "      <td>F</td>\n",
       "      <td>2011-06-20 07:15:37</td>\n",
       "      <td>New Orleans</td>\n",
       "      <td>United States</td>\n",
       "    </tr>\n",
       "    <tr>\n",
       "      <th>1</th>\n",
       "      <td>Christine</td>\n",
       "      <td>Palmer</td>\n",
       "      <td>F</td>\n",
       "      <td>2011-04-27 04:07:57</td>\n",
       "      <td>Fremont</td>\n",
       "      <td>United States</td>\n",
       "    </tr>\n",
       "    <tr>\n",
       "      <th>2</th>\n",
       "      <td>Pablo</td>\n",
       "      <td>Cline</td>\n",
       "      <td>M</td>\n",
       "      <td>2012-03-30 18:55:23</td>\n",
       "      <td>Rochester</td>\n",
       "      <td>United States</td>\n",
       "    </tr>\n",
       "    <tr>\n",
       "      <th>3</th>\n",
       "      <td>Darnell</td>\n",
       "      <td>Nielsen</td>\n",
       "      <td>M</td>\n",
       "      <td>2014-03-06 06:55:03</td>\n",
       "      <td>Lubbock</td>\n",
       "      <td>United States</td>\n",
       "    </tr>\n",
       "    <tr>\n",
       "      <th>4</th>\n",
       "      <td>Desiree</td>\n",
       "      <td>Stuart</td>\n",
       "      <td>F</td>\n",
       "      <td>2014-11-16 22:59:55</td>\n",
       "      <td>Anaheim</td>\n",
       "      <td>United States</td>\n",
       "    </tr>\n",
       "  </tbody>\n",
       "</table>\n",
       "</div>"
      ],
      "text/plain": [
       "      Nombre Apellido Genero   FechaContratacion       Ciudad           Pais\n",
       "0     Nicole   Fuller      F 2011-06-20 07:15:37  New Orleans  United States\n",
       "1  Christine   Palmer      F 2011-04-27 04:07:57      Fremont  United States\n",
       "2      Pablo    Cline      M 2012-03-30 18:55:23    Rochester  United States\n",
       "3    Darnell  Nielsen      M 2014-03-06 06:55:03      Lubbock  United States\n",
       "4    Desiree   Stuart      F 2014-11-16 22:59:55      Anaheim  United States"
      ]
     },
     "execution_count": 4,
     "metadata": {},
     "output_type": "execute_result"
    }
   ],
   "source": [
    "# Ejecutar una query con df\n",
    "query = \"\"\"\n",
    "select FirstName as Nombre, LastName as Apellido, Gender as Genero, HireDate as FechaContratacion,\n",
    "CityName as Ciudad, CountryName as Pais from employees e join cities c on e.cityid = c.cityid\n",
    "join countries co on c.countryID= co.countryID LIMIT 5;\n",
    "\"\"\"\n",
    "df = db1.execute_query(query)\n",
    "df"
   ]
  },
  {
   "cell_type": "markdown",
   "id": "34bca078",
   "metadata": {},
   "source": [
    "### **Patrones de diseño**"
   ]
  },
  {
   "cell_type": "markdown",
   "id": "15d9045d",
   "metadata": {},
   "source": [
    "**Patron Singleton**"
   ]
  },
  {
   "cell_type": "code",
   "execution_count": 5,
   "id": "2e433db3",
   "metadata": {},
   "outputs": [
    {
     "name": "stdout",
     "output_type": "stream",
     "text": [
      "Es la misma instancia? True\n",
      "Es la misma base de datos? True\n"
     ]
    }
   ],
   "source": [
    "## Verificar Patron Singleton\n",
    "\n",
    "db1 = DBConnection()\n",
    "db2 = DBConnection()\n",
    "\n",
    "print(\"Es la misma instancia?\", db1 is db2)\n",
    "print(\"Es la misma base de datos?\", db1.engine.url == db2.engine.url)"
   ]
  },
  {
   "cell_type": "code",
   "execution_count": 4,
   "id": "1a1fe237",
   "metadata": {},
   "outputs": [],
   "source": [
    "from src.design_patterns.factory import CustomerFactory\n",
    "from src.design_patterns.factory import EmployeeFactory\n",
    "\n",
    "db = DBConnection()"
   ]
  },
  {
   "cell_type": "markdown",
   "id": "0d5128d4",
   "metadata": {},
   "source": [
    "**Patron Factory**"
   ]
  },
  {
   "cell_type": "code",
   "execution_count": 7,
   "id": "fd66bbf6",
   "metadata": {},
   "outputs": [
    {
     "name": "stdout",
     "output_type": "stream",
     "text": [
      "2025-06-02 11:46:35,333 INFO sqlalchemy.engine.Engine BEGIN (implicit)\n",
      "2025-06-02 11:46:35,334 INFO sqlalchemy.engine.Engine Select * from customers limit 10\n",
      "2025-06-02 11:46:35,334 INFO sqlalchemy.engine.Engine [generated in 0.00201s] {}\n",
      "2025-06-02 11:46:35,336 INFO sqlalchemy.engine.Engine ROLLBACK\n"
     ]
    },
    {
     "data": {
      "text/plain": [
       "{'_sa_instance_state': <sqlalchemy.orm.state.InstanceState at 0x1cbd86885f0>,\n",
       " 'CustomerID': 1,\n",
       " 'FirstName': 'Stefanie',\n",
       " 'MiddleInitial': 'Y',\n",
       " 'LastName': 'Frye',\n",
       " 'CityID': 79,\n",
       " 'Address': '97 Oak Avenue'}"
      ]
     },
     "execution_count": 7,
     "metadata": {},
     "output_type": "execute_result"
    }
   ],
   "source": [
    "## Implementación del patrón Factory\n",
    "\n",
    "## Customer Factory\n",
    "\n",
    "df = db.execute_query(\"Select * from customers limit 10\")\n",
    "\n",
    "customers = [CustomerFactory.from_series(row) for _, row in df.iterrows()]\n",
    "\n",
    "customers[0].__dict__"
   ]
  },
  {
   "cell_type": "code",
   "execution_count": 8,
   "id": "68946a30",
   "metadata": {},
   "outputs": [
    {
     "name": "stdout",
     "output_type": "stream",
     "text": [
      "2025-06-02 11:46:39,349 INFO sqlalchemy.engine.Engine BEGIN (implicit)\n",
      "2025-06-02 11:46:39,349 INFO sqlalchemy.engine.Engine Select * from employees limit 10\n",
      "2025-06-02 11:46:39,350 INFO sqlalchemy.engine.Engine [generated in 0.00139s] {}\n",
      "2025-06-02 11:46:39,352 INFO sqlalchemy.engine.Engine ROLLBACK\n",
      "['EmployeeID', 'Firstname', 'MiddleInitial', 'LastName', 'BirthDate', 'Gender', 'CityID', 'HireDate']\n"
     ]
    },
    {
     "data": {
      "text/plain": [
       "{'_sa_instance_state': <sqlalchemy.orm.state.InstanceState at 0x1cbd8689190>,\n",
       " 'EmployeeID': 1,\n",
       " 'FirstName': 'Nicole',\n",
       " 'MiddleInitial': 'T',\n",
       " 'LastName': 'Fuller',\n",
       " 'BirthDate': datetime.date(1981, 3, 7),\n",
       " 'Gender': 'F',\n",
       " 'CityID': 80,\n",
       " 'HireDate': Timestamp('2011-06-20 07:15:37')}"
      ]
     },
     "execution_count": 8,
     "metadata": {},
     "output_type": "execute_result"
    }
   ],
   "source": [
    "## Implementación del patrón Factory\n",
    "\n",
    "## Employee Factory\n",
    "\n",
    "df = db.execute_query(\"Select * from employees limit 10\")\n",
    "print(df.columns.to_list())\n",
    "\n",
    "employees = [EmployeeFactory.from_series(row) for _, row in df.iterrows()]\n",
    "\n",
    "employees[0].__dict__"
   ]
  },
  {
   "cell_type": "code",
   "execution_count": 19,
   "id": "3ca6109f",
   "metadata": {},
   "outputs": [
    {
     "name": "stdout",
     "output_type": "stream",
     "text": [
      "2025-06-03 15:52:14,251 INFO sqlalchemy.engine.Engine BEGIN (implicit)\n",
      "2025-06-03 15:52:14,253 INFO sqlalchemy.engine.Engine \n",
      "select * from sales s join employees e on s.salespersonID = e.employeeID;\n",
      "\n",
      "2025-06-03 15:52:14,254 INFO sqlalchemy.engine.Engine [cached since 699.9s ago] {}\n",
      "2025-06-03 15:52:14,849 INFO sqlalchemy.engine.Engine ROLLBACK\n"
     ]
    }
   ],
   "source": [
    "## Implementación del patrón Strategy\n",
    "\n",
    "query = \"\"\"\n",
    "select * from sales s join employees e on s.salespersonID = e.employeeID;\n",
    "\"\"\"\n",
    "df = db1.execute_query(query)"
   ]
  },
  {
   "cell_type": "code",
   "execution_count": 39,
   "id": "0781fa57",
   "metadata": {},
   "outputs": [
    {
     "data": {
      "application/vnd.microsoft.datawrangler.viewer.v0+json": {
       "columns": [
        {
         "name": "index",
         "rawType": "int64",
         "type": "integer"
        },
        {
         "name": "IDVendedor",
         "rawType": "int64",
         "type": "integer"
        },
        {
         "name": "Nombre",
         "rawType": "object",
         "type": "string"
        },
        {
         "name": "Apellido",
         "rawType": "object",
         "type": "string"
        },
        {
         "name": "TotalVentas",
         "rawType": "object",
         "type": "unknown"
        }
       ],
       "ref": "c8cf5a6f-6693-4863-b365-9cb27541d94b",
       "rows": [
        [
         "0",
         "23",
         "Janet",
         "Flowers",
         "665091.00"
        ],
        [
         "1",
         "22",
         "Tonia",
         "Mc Millan",
         "631158.00"
        ],
        [
         "2",
         "21",
         "Devon",
         "Brewer",
         "618744.00"
        ],
        [
         "3",
         "20",
         "Shelby",
         "Riddle",
         "569220.00"
        ],
        [
         "4",
         "19",
         "Bernard",
         "Moody",
         "538954.00"
        ],
        [
         "5",
         "18",
         "Warren",
         "Bartlett",
         "512154.00"
        ],
        [
         "6",
         "17",
         "Seth",
         "Franco",
         "463658.00"
        ],
        [
         "7",
         "16",
         "Chadwick",
         "Walton",
         "458800.00"
        ],
        [
         "8",
         "15",
         "Kari",
         "Finley",
         "416940.00"
        ],
        [
         "9",
         "14",
         "Wendi",
         "Buckley",
         "406812.00"
        ],
        [
         "10",
         "13",
         "Katina",
         "Marks",
         "368511.00"
        ],
        [
         "11",
         "12",
         "Lindsay",
         "Chen",
         "338664.00"
        ],
        [
         "12",
         "11",
         "Sonya",
         "Dickson",
         "308726.00"
        ],
        [
         "13",
         "10",
         "Jean",
         "Vang",
         "284590.00"
        ],
        [
         "14",
         "9",
         "Daphne",
         "King",
         "251775.00"
        ],
        [
         "15",
         "8",
         "Julie",
         "Dyer",
         "241680.00"
        ],
        [
         "16",
         "7",
         "Chadwick",
         "Cook",
         "195111.00"
        ],
        [
         "17",
         "6",
         "Holly",
         "Collins",
         "171600.00"
        ],
        [
         "18",
         "5",
         "Desiree",
         "Stuart",
         "140985.00"
        ],
        [
         "19",
         "4",
         "Darnell",
         "Nielsen",
         "110060.00"
        ],
        [
         "20",
         "3",
         "Pablo",
         "Cline",
         "83925.00"
        ],
        [
         "21",
         "2",
         "Christine",
         "Palmer",
         "58174.00"
        ],
        [
         "22",
         "1",
         "Nicole",
         "Fuller",
         "28287.00"
        ]
       ],
       "shape": {
        "columns": 4,
        "rows": 23
       }
      },
      "text/html": [
       "<div>\n",
       "<style scoped>\n",
       "    .dataframe tbody tr th:only-of-type {\n",
       "        vertical-align: middle;\n",
       "    }\n",
       "\n",
       "    .dataframe tbody tr th {\n",
       "        vertical-align: top;\n",
       "    }\n",
       "\n",
       "    .dataframe thead th {\n",
       "        text-align: right;\n",
       "    }\n",
       "</style>\n",
       "<table border=\"1\" class=\"dataframe\">\n",
       "  <thead>\n",
       "    <tr style=\"text-align: right;\">\n",
       "      <th></th>\n",
       "      <th>IDVendedor</th>\n",
       "      <th>Nombre</th>\n",
       "      <th>Apellido</th>\n",
       "      <th>TotalVentas</th>\n",
       "    </tr>\n",
       "  </thead>\n",
       "  <tbody>\n",
       "    <tr>\n",
       "      <th>0</th>\n",
       "      <td>23</td>\n",
       "      <td>Janet</td>\n",
       "      <td>Flowers</td>\n",
       "      <td>665091.00</td>\n",
       "    </tr>\n",
       "    <tr>\n",
       "      <th>1</th>\n",
       "      <td>22</td>\n",
       "      <td>Tonia</td>\n",
       "      <td>Mc Millan</td>\n",
       "      <td>631158.00</td>\n",
       "    </tr>\n",
       "    <tr>\n",
       "      <th>2</th>\n",
       "      <td>21</td>\n",
       "      <td>Devon</td>\n",
       "      <td>Brewer</td>\n",
       "      <td>618744.00</td>\n",
       "    </tr>\n",
       "    <tr>\n",
       "      <th>3</th>\n",
       "      <td>20</td>\n",
       "      <td>Shelby</td>\n",
       "      <td>Riddle</td>\n",
       "      <td>569220.00</td>\n",
       "    </tr>\n",
       "    <tr>\n",
       "      <th>4</th>\n",
       "      <td>19</td>\n",
       "      <td>Bernard</td>\n",
       "      <td>Moody</td>\n",
       "      <td>538954.00</td>\n",
       "    </tr>\n",
       "    <tr>\n",
       "      <th>5</th>\n",
       "      <td>18</td>\n",
       "      <td>Warren</td>\n",
       "      <td>Bartlett</td>\n",
       "      <td>512154.00</td>\n",
       "    </tr>\n",
       "    <tr>\n",
       "      <th>6</th>\n",
       "      <td>17</td>\n",
       "      <td>Seth</td>\n",
       "      <td>Franco</td>\n",
       "      <td>463658.00</td>\n",
       "    </tr>\n",
       "    <tr>\n",
       "      <th>7</th>\n",
       "      <td>16</td>\n",
       "      <td>Chadwick</td>\n",
       "      <td>Walton</td>\n",
       "      <td>458800.00</td>\n",
       "    </tr>\n",
       "    <tr>\n",
       "      <th>8</th>\n",
       "      <td>15</td>\n",
       "      <td>Kari</td>\n",
       "      <td>Finley</td>\n",
       "      <td>416940.00</td>\n",
       "    </tr>\n",
       "    <tr>\n",
       "      <th>9</th>\n",
       "      <td>14</td>\n",
       "      <td>Wendi</td>\n",
       "      <td>Buckley</td>\n",
       "      <td>406812.00</td>\n",
       "    </tr>\n",
       "    <tr>\n",
       "      <th>10</th>\n",
       "      <td>13</td>\n",
       "      <td>Katina</td>\n",
       "      <td>Marks</td>\n",
       "      <td>368511.00</td>\n",
       "    </tr>\n",
       "    <tr>\n",
       "      <th>11</th>\n",
       "      <td>12</td>\n",
       "      <td>Lindsay</td>\n",
       "      <td>Chen</td>\n",
       "      <td>338664.00</td>\n",
       "    </tr>\n",
       "    <tr>\n",
       "      <th>12</th>\n",
       "      <td>11</td>\n",
       "      <td>Sonya</td>\n",
       "      <td>Dickson</td>\n",
       "      <td>308726.00</td>\n",
       "    </tr>\n",
       "    <tr>\n",
       "      <th>13</th>\n",
       "      <td>10</td>\n",
       "      <td>Jean</td>\n",
       "      <td>Vang</td>\n",
       "      <td>284590.00</td>\n",
       "    </tr>\n",
       "    <tr>\n",
       "      <th>14</th>\n",
       "      <td>9</td>\n",
       "      <td>Daphne</td>\n",
       "      <td>King</td>\n",
       "      <td>251775.00</td>\n",
       "    </tr>\n",
       "    <tr>\n",
       "      <th>15</th>\n",
       "      <td>8</td>\n",
       "      <td>Julie</td>\n",
       "      <td>Dyer</td>\n",
       "      <td>241680.00</td>\n",
       "    </tr>\n",
       "    <tr>\n",
       "      <th>16</th>\n",
       "      <td>7</td>\n",
       "      <td>Chadwick</td>\n",
       "      <td>Cook</td>\n",
       "      <td>195111.00</td>\n",
       "    </tr>\n",
       "    <tr>\n",
       "      <th>17</th>\n",
       "      <td>6</td>\n",
       "      <td>Holly</td>\n",
       "      <td>Collins</td>\n",
       "      <td>171600.00</td>\n",
       "    </tr>\n",
       "    <tr>\n",
       "      <th>18</th>\n",
       "      <td>5</td>\n",
       "      <td>Desiree</td>\n",
       "      <td>Stuart</td>\n",
       "      <td>140985.00</td>\n",
       "    </tr>\n",
       "    <tr>\n",
       "      <th>19</th>\n",
       "      <td>4</td>\n",
       "      <td>Darnell</td>\n",
       "      <td>Nielsen</td>\n",
       "      <td>110060.00</td>\n",
       "    </tr>\n",
       "    <tr>\n",
       "      <th>20</th>\n",
       "      <td>3</td>\n",
       "      <td>Pablo</td>\n",
       "      <td>Cline</td>\n",
       "      <td>83925.00</td>\n",
       "    </tr>\n",
       "    <tr>\n",
       "      <th>21</th>\n",
       "      <td>2</td>\n",
       "      <td>Christine</td>\n",
       "      <td>Palmer</td>\n",
       "      <td>58174.00</td>\n",
       "    </tr>\n",
       "    <tr>\n",
       "      <th>22</th>\n",
       "      <td>1</td>\n",
       "      <td>Nicole</td>\n",
       "      <td>Fuller</td>\n",
       "      <td>28287.00</td>\n",
       "    </tr>\n",
       "  </tbody>\n",
       "</table>\n",
       "</div>"
      ],
      "text/plain": [
       "    IDVendedor     Nombre   Apellido TotalVentas\n",
       "0           23      Janet    Flowers   665091.00\n",
       "1           22      Tonia  Mc Millan   631158.00\n",
       "2           21      Devon     Brewer   618744.00\n",
       "3           20     Shelby     Riddle   569220.00\n",
       "4           19    Bernard      Moody   538954.00\n",
       "5           18     Warren   Bartlett   512154.00\n",
       "6           17       Seth     Franco   463658.00\n",
       "7           16   Chadwick     Walton   458800.00\n",
       "8           15       Kari     Finley   416940.00\n",
       "9           14      Wendi    Buckley   406812.00\n",
       "10          13     Katina      Marks   368511.00\n",
       "11          12    Lindsay       Chen   338664.00\n",
       "12          11      Sonya    Dickson   308726.00\n",
       "13          10       Jean       Vang   284590.00\n",
       "14           9     Daphne       King   251775.00\n",
       "15           8      Julie       Dyer   241680.00\n",
       "16           7   Chadwick       Cook   195111.00\n",
       "17           6      Holly    Collins   171600.00\n",
       "18           5    Desiree     Stuart   140985.00\n",
       "19           4    Darnell    Nielsen   110060.00\n",
       "20           3      Pablo      Cline    83925.00\n",
       "21           2  Christine     Palmer    58174.00\n",
       "22           1     Nicole     Fuller    28287.00"
      ]
     },
     "execution_count": 39,
     "metadata": {},
     "output_type": "execute_result"
    }
   ],
   "source": [
    "from src.design_patterns.strategy import TotalSalesByEmployee\n",
    "\n",
    "report = TotalSalesByEmployee()\n",
    "report.generate_report(df,\"TotalPrice\")"
   ]
  },
  {
   "cell_type": "code",
   "execution_count": 40,
   "id": "8e65fab5",
   "metadata": {},
   "outputs": [
    {
     "data": {
      "application/vnd.microsoft.datawrangler.viewer.v0+json": {
       "columns": [
        {
         "name": "index",
         "rawType": "int64",
         "type": "integer"
        },
        {
         "name": "IDVendedor",
         "rawType": "int64",
         "type": "integer"
        },
        {
         "name": "Nombre",
         "rawType": "object",
         "type": "string"
        },
        {
         "name": "Apellido",
         "rawType": "object",
         "type": "string"
        },
        {
         "name": "Promedio de ventas",
         "rawType": "object",
         "type": "unknown"
        }
       ],
       "ref": "e88f1d1b-dcba-48b6-85ac-41b63d36b28a",
       "rows": [
        [
         "0",
         "23",
         "Janet",
         "Flowers",
         "303.6945205479452"
        ],
        [
         "1",
         "22",
         "Tonia",
         "Mc Millan",
         "292.2027777777778"
        ],
        [
         "2",
         "21",
         "Devon",
         "Brewer",
         "275.2419928825623"
        ],
        [
         "3",
         "20",
         "Shelby",
         "Riddle",
         "263.0406654343808"
        ],
        [
         "4",
         "19",
         "Bernard",
         "Moody",
         "249.74698795180723"
        ],
        [
         "5",
         "18",
         "Warren",
         "Bartlett",
         "232.26938775510203"
        ],
        [
         "6",
         "17",
         "Seth",
         "Franco",
         "221.63384321223708"
        ],
        [
         "7",
         "16",
         "Chadwick",
         "Walton",
         "208.07256235827666"
        ],
        [
         "8",
         "15",
         "Kari",
         "Finley",
         "197.41477272727272"
        ],
        [
         "9",
         "14",
         "Wendi",
         "Buckley",
         "181.45049063336307"
        ],
        [
         "10",
         "13",
         "Katina",
         "Marks",
         "169.2746899402848"
        ],
        [
         "11",
         "12",
         "Lindsay",
         "Chen",
         "156.21033210332104"
        ],
        [
         "12",
         "11",
         "Sonya",
         "Dickson",
         "143.46003717472118"
        ],
        [
         "13",
         "10",
         "Jean",
         "Vang",
         "130.6057824690225"
        ],
        [
         "14",
         "9",
         "Daphne",
         "King",
         "116.94147700882489"
        ],
        [
         "15",
         "8",
         "Julie",
         "Dyer",
         "106.32644082710075"
        ],
        [
         "16",
         "7",
         "Chadwick",
         "Cook",
         "91.90343853038154"
        ],
        [
         "17",
         "6",
         "Holly",
         "Collins",
         "78.49954254345838"
        ],
        [
         "18",
         "5",
         "Desiree",
         "Stuart",
         "65.0"
        ],
        [
         "19",
         "4",
         "Darnell",
         "Nielsen",
         "52.03782505910166"
        ],
        [
         "20",
         "3",
         "Pablo",
         "Cline",
         "39.662098298676746"
        ],
        [
         "21",
         "2",
         "Christine",
         "Palmer",
         "25.83214920071048"
        ],
        [
         "22",
         "1",
         "Nicole",
         "Fuller",
         "13.089773253123553"
        ]
       ],
       "shape": {
        "columns": 4,
        "rows": 23
       }
      },
      "text/html": [
       "<div>\n",
       "<style scoped>\n",
       "    .dataframe tbody tr th:only-of-type {\n",
       "        vertical-align: middle;\n",
       "    }\n",
       "\n",
       "    .dataframe tbody tr th {\n",
       "        vertical-align: top;\n",
       "    }\n",
       "\n",
       "    .dataframe thead th {\n",
       "        text-align: right;\n",
       "    }\n",
       "</style>\n",
       "<table border=\"1\" class=\"dataframe\">\n",
       "  <thead>\n",
       "    <tr style=\"text-align: right;\">\n",
       "      <th></th>\n",
       "      <th>IDVendedor</th>\n",
       "      <th>Nombre</th>\n",
       "      <th>Apellido</th>\n",
       "      <th>Promedio de ventas</th>\n",
       "    </tr>\n",
       "  </thead>\n",
       "  <tbody>\n",
       "    <tr>\n",
       "      <th>0</th>\n",
       "      <td>23</td>\n",
       "      <td>Janet</td>\n",
       "      <td>Flowers</td>\n",
       "      <td>303.694521</td>\n",
       "    </tr>\n",
       "    <tr>\n",
       "      <th>1</th>\n",
       "      <td>22</td>\n",
       "      <td>Tonia</td>\n",
       "      <td>Mc Millan</td>\n",
       "      <td>292.202778</td>\n",
       "    </tr>\n",
       "    <tr>\n",
       "      <th>2</th>\n",
       "      <td>21</td>\n",
       "      <td>Devon</td>\n",
       "      <td>Brewer</td>\n",
       "      <td>275.241993</td>\n",
       "    </tr>\n",
       "    <tr>\n",
       "      <th>3</th>\n",
       "      <td>20</td>\n",
       "      <td>Shelby</td>\n",
       "      <td>Riddle</td>\n",
       "      <td>263.040665</td>\n",
       "    </tr>\n",
       "    <tr>\n",
       "      <th>4</th>\n",
       "      <td>19</td>\n",
       "      <td>Bernard</td>\n",
       "      <td>Moody</td>\n",
       "      <td>249.746988</td>\n",
       "    </tr>\n",
       "    <tr>\n",
       "      <th>5</th>\n",
       "      <td>18</td>\n",
       "      <td>Warren</td>\n",
       "      <td>Bartlett</td>\n",
       "      <td>232.269388</td>\n",
       "    </tr>\n",
       "    <tr>\n",
       "      <th>6</th>\n",
       "      <td>17</td>\n",
       "      <td>Seth</td>\n",
       "      <td>Franco</td>\n",
       "      <td>221.633843</td>\n",
       "    </tr>\n",
       "    <tr>\n",
       "      <th>7</th>\n",
       "      <td>16</td>\n",
       "      <td>Chadwick</td>\n",
       "      <td>Walton</td>\n",
       "      <td>208.072562</td>\n",
       "    </tr>\n",
       "    <tr>\n",
       "      <th>8</th>\n",
       "      <td>15</td>\n",
       "      <td>Kari</td>\n",
       "      <td>Finley</td>\n",
       "      <td>197.414773</td>\n",
       "    </tr>\n",
       "    <tr>\n",
       "      <th>9</th>\n",
       "      <td>14</td>\n",
       "      <td>Wendi</td>\n",
       "      <td>Buckley</td>\n",
       "      <td>181.450491</td>\n",
       "    </tr>\n",
       "    <tr>\n",
       "      <th>10</th>\n",
       "      <td>13</td>\n",
       "      <td>Katina</td>\n",
       "      <td>Marks</td>\n",
       "      <td>169.27469</td>\n",
       "    </tr>\n",
       "    <tr>\n",
       "      <th>11</th>\n",
       "      <td>12</td>\n",
       "      <td>Lindsay</td>\n",
       "      <td>Chen</td>\n",
       "      <td>156.210332</td>\n",
       "    </tr>\n",
       "    <tr>\n",
       "      <th>12</th>\n",
       "      <td>11</td>\n",
       "      <td>Sonya</td>\n",
       "      <td>Dickson</td>\n",
       "      <td>143.460037</td>\n",
       "    </tr>\n",
       "    <tr>\n",
       "      <th>13</th>\n",
       "      <td>10</td>\n",
       "      <td>Jean</td>\n",
       "      <td>Vang</td>\n",
       "      <td>130.605782</td>\n",
       "    </tr>\n",
       "    <tr>\n",
       "      <th>14</th>\n",
       "      <td>9</td>\n",
       "      <td>Daphne</td>\n",
       "      <td>King</td>\n",
       "      <td>116.941477</td>\n",
       "    </tr>\n",
       "    <tr>\n",
       "      <th>15</th>\n",
       "      <td>8</td>\n",
       "      <td>Julie</td>\n",
       "      <td>Dyer</td>\n",
       "      <td>106.326441</td>\n",
       "    </tr>\n",
       "    <tr>\n",
       "      <th>16</th>\n",
       "      <td>7</td>\n",
       "      <td>Chadwick</td>\n",
       "      <td>Cook</td>\n",
       "      <td>91.903439</td>\n",
       "    </tr>\n",
       "    <tr>\n",
       "      <th>17</th>\n",
       "      <td>6</td>\n",
       "      <td>Holly</td>\n",
       "      <td>Collins</td>\n",
       "      <td>78.499543</td>\n",
       "    </tr>\n",
       "    <tr>\n",
       "      <th>18</th>\n",
       "      <td>5</td>\n",
       "      <td>Desiree</td>\n",
       "      <td>Stuart</td>\n",
       "      <td>65.0</td>\n",
       "    </tr>\n",
       "    <tr>\n",
       "      <th>19</th>\n",
       "      <td>4</td>\n",
       "      <td>Darnell</td>\n",
       "      <td>Nielsen</td>\n",
       "      <td>52.037825</td>\n",
       "    </tr>\n",
       "    <tr>\n",
       "      <th>20</th>\n",
       "      <td>3</td>\n",
       "      <td>Pablo</td>\n",
       "      <td>Cline</td>\n",
       "      <td>39.662098</td>\n",
       "    </tr>\n",
       "    <tr>\n",
       "      <th>21</th>\n",
       "      <td>2</td>\n",
       "      <td>Christine</td>\n",
       "      <td>Palmer</td>\n",
       "      <td>25.832149</td>\n",
       "    </tr>\n",
       "    <tr>\n",
       "      <th>22</th>\n",
       "      <td>1</td>\n",
       "      <td>Nicole</td>\n",
       "      <td>Fuller</td>\n",
       "      <td>13.089773</td>\n",
       "    </tr>\n",
       "  </tbody>\n",
       "</table>\n",
       "</div>"
      ],
      "text/plain": [
       "    IDVendedor     Nombre   Apellido Promedio de ventas\n",
       "0           23      Janet    Flowers         303.694521\n",
       "1           22      Tonia  Mc Millan         292.202778\n",
       "2           21      Devon     Brewer         275.241993\n",
       "3           20     Shelby     Riddle         263.040665\n",
       "4           19    Bernard      Moody         249.746988\n",
       "5           18     Warren   Bartlett         232.269388\n",
       "6           17       Seth     Franco         221.633843\n",
       "7           16   Chadwick     Walton         208.072562\n",
       "8           15       Kari     Finley         197.414773\n",
       "9           14      Wendi    Buckley         181.450491\n",
       "10          13     Katina      Marks          169.27469\n",
       "11          12    Lindsay       Chen         156.210332\n",
       "12          11      Sonya    Dickson         143.460037\n",
       "13          10       Jean       Vang         130.605782\n",
       "14           9     Daphne       King         116.941477\n",
       "15           8      Julie       Dyer         106.326441\n",
       "16           7   Chadwick       Cook          91.903439\n",
       "17           6      Holly    Collins          78.499543\n",
       "18           5    Desiree     Stuart               65.0\n",
       "19           4    Darnell    Nielsen          52.037825\n",
       "20           3      Pablo      Cline          39.662098\n",
       "21           2  Christine     Palmer          25.832149\n",
       "22           1     Nicole     Fuller          13.089773"
      ]
     },
     "execution_count": 40,
     "metadata": {},
     "output_type": "execute_result"
    }
   ],
   "source": [
    "from src.design_patterns.strategy import AverageSalesByEmployee\n",
    "report = AverageSalesByEmployee()\n",
    "report.generate_report(df,\"TotalPrice\")"
   ]
  },
  {
   "cell_type": "code",
   "execution_count": 41,
   "id": "f24d4e06",
   "metadata": {},
   "outputs": [
    {
     "data": {
      "application/vnd.microsoft.datawrangler.viewer.v0+json": {
       "columns": [
        {
         "name": "index",
         "rawType": "int64",
         "type": "integer"
        },
        {
         "name": "IDVendedor",
         "rawType": "int64",
         "type": "integer"
        },
        {
         "name": "Nombre",
         "rawType": "object",
         "type": "string"
        },
        {
         "name": "Apellido",
         "rawType": "object",
         "type": "string"
        },
        {
         "name": "Producto mas vendido",
         "rawType": "int64",
         "type": "integer"
        }
       ],
       "ref": "6b77d4f8-3413-4f2d-9fee-4c0ddb460172",
       "rows": [
        [
         "0",
         "8",
         "Julie",
         "Dyer",
         "2273"
        ],
        [
         "1",
         "2",
         "Christine",
         "Palmer",
         "2252"
        ],
        [
         "2",
         "21",
         "Devon",
         "Brewer",
         "2248"
        ],
        [
         "3",
         "14",
         "Wendi",
         "Buckley",
         "2242"
        ],
        [
         "4",
         "16",
         "Chadwick",
         "Walton",
         "2205"
        ],
        [
         "5",
         "18",
         "Warren",
         "Bartlett",
         "2205"
        ],
        [
         "6",
         "23",
         "Janet",
         "Flowers",
         "2190"
        ],
        [
         "7",
         "6",
         "Holly",
         "Collins",
         "2186"
        ],
        [
         "8",
         "10",
         "Jean",
         "Vang",
         "2179"
        ],
        [
         "9",
         "13",
         "Katina",
         "Marks",
         "2177"
        ],
        [
         "10",
         "5",
         "Desiree",
         "Stuart",
         "2169"
        ],
        [
         "11",
         "12",
         "Lindsay",
         "Chen",
         "2168"
        ],
        [
         "12",
         "20",
         "Shelby",
         "Riddle",
         "2164"
        ],
        [
         "13",
         "1",
         "Nicole",
         "Fuller",
         "2161"
        ],
        [
         "14",
         "22",
         "Tonia",
         "Mc Millan",
         "2160"
        ],
        [
         "15",
         "19",
         "Bernard",
         "Moody",
         "2158"
        ],
        [
         "16",
         "9",
         "Daphne",
         "King",
         "2153"
        ],
        [
         "17",
         "11",
         "Sonya",
         "Dickson",
         "2152"
        ],
        [
         "18",
         "7",
         "Chadwick",
         "Cook",
         "2123"
        ],
        [
         "19",
         "3",
         "Pablo",
         "Cline",
         "2116"
        ],
        [
         "20",
         "4",
         "Darnell",
         "Nielsen",
         "2115"
        ],
        [
         "21",
         "15",
         "Kari",
         "Finley",
         "2112"
        ],
        [
         "22",
         "17",
         "Seth",
         "Franco",
         "2092"
        ]
       ],
       "shape": {
        "columns": 4,
        "rows": 23
       }
      },
      "text/html": [
       "<div>\n",
       "<style scoped>\n",
       "    .dataframe tbody tr th:only-of-type {\n",
       "        vertical-align: middle;\n",
       "    }\n",
       "\n",
       "    .dataframe tbody tr th {\n",
       "        vertical-align: top;\n",
       "    }\n",
       "\n",
       "    .dataframe thead th {\n",
       "        text-align: right;\n",
       "    }\n",
       "</style>\n",
       "<table border=\"1\" class=\"dataframe\">\n",
       "  <thead>\n",
       "    <tr style=\"text-align: right;\">\n",
       "      <th></th>\n",
       "      <th>IDVendedor</th>\n",
       "      <th>Nombre</th>\n",
       "      <th>Apellido</th>\n",
       "      <th>Producto mas vendido</th>\n",
       "    </tr>\n",
       "  </thead>\n",
       "  <tbody>\n",
       "    <tr>\n",
       "      <th>0</th>\n",
       "      <td>8</td>\n",
       "      <td>Julie</td>\n",
       "      <td>Dyer</td>\n",
       "      <td>2273</td>\n",
       "    </tr>\n",
       "    <tr>\n",
       "      <th>1</th>\n",
       "      <td>2</td>\n",
       "      <td>Christine</td>\n",
       "      <td>Palmer</td>\n",
       "      <td>2252</td>\n",
       "    </tr>\n",
       "    <tr>\n",
       "      <th>2</th>\n",
       "      <td>21</td>\n",
       "      <td>Devon</td>\n",
       "      <td>Brewer</td>\n",
       "      <td>2248</td>\n",
       "    </tr>\n",
       "    <tr>\n",
       "      <th>3</th>\n",
       "      <td>14</td>\n",
       "      <td>Wendi</td>\n",
       "      <td>Buckley</td>\n",
       "      <td>2242</td>\n",
       "    </tr>\n",
       "    <tr>\n",
       "      <th>4</th>\n",
       "      <td>16</td>\n",
       "      <td>Chadwick</td>\n",
       "      <td>Walton</td>\n",
       "      <td>2205</td>\n",
       "    </tr>\n",
       "    <tr>\n",
       "      <th>5</th>\n",
       "      <td>18</td>\n",
       "      <td>Warren</td>\n",
       "      <td>Bartlett</td>\n",
       "      <td>2205</td>\n",
       "    </tr>\n",
       "    <tr>\n",
       "      <th>6</th>\n",
       "      <td>23</td>\n",
       "      <td>Janet</td>\n",
       "      <td>Flowers</td>\n",
       "      <td>2190</td>\n",
       "    </tr>\n",
       "    <tr>\n",
       "      <th>7</th>\n",
       "      <td>6</td>\n",
       "      <td>Holly</td>\n",
       "      <td>Collins</td>\n",
       "      <td>2186</td>\n",
       "    </tr>\n",
       "    <tr>\n",
       "      <th>8</th>\n",
       "      <td>10</td>\n",
       "      <td>Jean</td>\n",
       "      <td>Vang</td>\n",
       "      <td>2179</td>\n",
       "    </tr>\n",
       "    <tr>\n",
       "      <th>9</th>\n",
       "      <td>13</td>\n",
       "      <td>Katina</td>\n",
       "      <td>Marks</td>\n",
       "      <td>2177</td>\n",
       "    </tr>\n",
       "    <tr>\n",
       "      <th>10</th>\n",
       "      <td>5</td>\n",
       "      <td>Desiree</td>\n",
       "      <td>Stuart</td>\n",
       "      <td>2169</td>\n",
       "    </tr>\n",
       "    <tr>\n",
       "      <th>11</th>\n",
       "      <td>12</td>\n",
       "      <td>Lindsay</td>\n",
       "      <td>Chen</td>\n",
       "      <td>2168</td>\n",
       "    </tr>\n",
       "    <tr>\n",
       "      <th>12</th>\n",
       "      <td>20</td>\n",
       "      <td>Shelby</td>\n",
       "      <td>Riddle</td>\n",
       "      <td>2164</td>\n",
       "    </tr>\n",
       "    <tr>\n",
       "      <th>13</th>\n",
       "      <td>1</td>\n",
       "      <td>Nicole</td>\n",
       "      <td>Fuller</td>\n",
       "      <td>2161</td>\n",
       "    </tr>\n",
       "    <tr>\n",
       "      <th>14</th>\n",
       "      <td>22</td>\n",
       "      <td>Tonia</td>\n",
       "      <td>Mc Millan</td>\n",
       "      <td>2160</td>\n",
       "    </tr>\n",
       "    <tr>\n",
       "      <th>15</th>\n",
       "      <td>19</td>\n",
       "      <td>Bernard</td>\n",
       "      <td>Moody</td>\n",
       "      <td>2158</td>\n",
       "    </tr>\n",
       "    <tr>\n",
       "      <th>16</th>\n",
       "      <td>9</td>\n",
       "      <td>Daphne</td>\n",
       "      <td>King</td>\n",
       "      <td>2153</td>\n",
       "    </tr>\n",
       "    <tr>\n",
       "      <th>17</th>\n",
       "      <td>11</td>\n",
       "      <td>Sonya</td>\n",
       "      <td>Dickson</td>\n",
       "      <td>2152</td>\n",
       "    </tr>\n",
       "    <tr>\n",
       "      <th>18</th>\n",
       "      <td>7</td>\n",
       "      <td>Chadwick</td>\n",
       "      <td>Cook</td>\n",
       "      <td>2123</td>\n",
       "    </tr>\n",
       "    <tr>\n",
       "      <th>19</th>\n",
       "      <td>3</td>\n",
       "      <td>Pablo</td>\n",
       "      <td>Cline</td>\n",
       "      <td>2116</td>\n",
       "    </tr>\n",
       "    <tr>\n",
       "      <th>20</th>\n",
       "      <td>4</td>\n",
       "      <td>Darnell</td>\n",
       "      <td>Nielsen</td>\n",
       "      <td>2115</td>\n",
       "    </tr>\n",
       "    <tr>\n",
       "      <th>21</th>\n",
       "      <td>15</td>\n",
       "      <td>Kari</td>\n",
       "      <td>Finley</td>\n",
       "      <td>2112</td>\n",
       "    </tr>\n",
       "    <tr>\n",
       "      <th>22</th>\n",
       "      <td>17</td>\n",
       "      <td>Seth</td>\n",
       "      <td>Franco</td>\n",
       "      <td>2092</td>\n",
       "    </tr>\n",
       "  </tbody>\n",
       "</table>\n",
       "</div>"
      ],
      "text/plain": [
       "    IDVendedor     Nombre   Apellido  Producto mas vendido\n",
       "0            8      Julie       Dyer                  2273\n",
       "1            2  Christine     Palmer                  2252\n",
       "2           21      Devon     Brewer                  2248\n",
       "3           14      Wendi    Buckley                  2242\n",
       "4           16   Chadwick     Walton                  2205\n",
       "5           18     Warren   Bartlett                  2205\n",
       "6           23      Janet    Flowers                  2190\n",
       "7            6      Holly    Collins                  2186\n",
       "8           10       Jean       Vang                  2179\n",
       "9           13     Katina      Marks                  2177\n",
       "10           5    Desiree     Stuart                  2169\n",
       "11          12    Lindsay       Chen                  2168\n",
       "12          20     Shelby     Riddle                  2164\n",
       "13           1     Nicole     Fuller                  2161\n",
       "14          22      Tonia  Mc Millan                  2160\n",
       "15          19    Bernard      Moody                  2158\n",
       "16           9     Daphne       King                  2153\n",
       "17          11      Sonya    Dickson                  2152\n",
       "18           7   Chadwick       Cook                  2123\n",
       "19           3      Pablo      Cline                  2116\n",
       "20           4    Darnell    Nielsen                  2115\n",
       "21          15       Kari     Finley                  2112\n",
       "22          17       Seth     Franco                  2092"
      ]
     },
     "execution_count": 41,
     "metadata": {},
     "output_type": "execute_result"
    }
   ],
   "source": [
    "from src.design_patterns.strategy import TopProductSalesByEmployee\n",
    "report = TopProductSalesByEmployee()\n",
    "report.generate_report(df, \"ProductID\")"
   ]
  },
  {
   "cell_type": "code",
   "execution_count": 38,
   "id": "b0259cc7",
   "metadata": {},
   "outputs": [
    {
     "data": {
      "text/plain": [
       "<module 'src.design_patterns.strategy' from 'c:\\\\Users\\\\veron\\\\OneDrive\\\\Documentos\\\\curso Henry\\\\Proyecto-Final\\\\src\\\\design_patterns\\\\strategy.py'>"
      ]
     },
     "execution_count": 38,
     "metadata": {},
     "output_type": "execute_result"
    }
   ],
   "source": [
    "import importlib\n",
    "import src.design_patterns.strategy\n",
    "importlib.reload(src.design_patterns.strategy)"
   ]
  }
 ],
 "metadata": {
  "kernelspec": {
   "display_name": "env-final",
   "language": "python",
   "name": "python3"
  },
  "language_info": {
   "codemirror_mode": {
    "name": "ipython",
    "version": 3
   },
   "file_extension": ".py",
   "mimetype": "text/x-python",
   "name": "python",
   "nbconvert_exporter": "python",
   "pygments_lexer": "ipython3",
   "version": "3.13.3"
  }
 },
 "nbformat": 4,
 "nbformat_minor": 5
}
