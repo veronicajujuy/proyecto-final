{
 "cells": [
  {
   "cell_type": "markdown",
   "id": "ee39dd47",
   "metadata": {},
   "source": [
    "## Avance 2 - Proyecto Final"
   ]
  },
  {
   "cell_type": "code",
   "execution_count": 6,
   "id": "2b1d5621",
   "metadata": {},
   "outputs": [],
   "source": [
    "from src.db.database import DBConnection"
   ]
  },
  {
   "cell_type": "code",
   "execution_count": 7,
   "id": "2e433db3",
   "metadata": {},
   "outputs": [
    {
     "name": "stdout",
     "output_type": "stream",
     "text": [
      "Es la misma instancia? True\n",
      "Es la misma base de datos? True\n"
     ]
    }
   ],
   "source": [
    "## Verificar Patron Singleton\n",
    "db1 = DBConnection()\n",
    "db2 = DBConnection()\n",
    "\n",
    "print(\"Es la misma instancia?\", db1 is db2)\n",
    "print(\"Es la misma base de datos?\", db1.engine.url == db2.engine.url)"
   ]
  },
  {
   "cell_type": "code",
   "execution_count": 8,
   "id": "3c69fc4a",
   "metadata": {},
   "outputs": [
    {
     "name": "stdout",
     "output_type": "stream",
     "text": [
      "2025-06-02 00:03:31,488 INFO sqlalchemy.engine.Engine BEGIN (implicit)\n",
      "2025-06-02 00:03:31,489 INFO sqlalchemy.engine.Engine SELECT * FROM customers LIMIT 5\n",
      "2025-06-02 00:03:31,489 INFO sqlalchemy.engine.Engine [cached since 61.93s ago] {}\n",
      "2025-06-02 00:03:31,491 INFO sqlalchemy.engine.Engine ROLLBACK\n"
     ]
    },
    {
     "data": {
      "application/vnd.microsoft.datawrangler.viewer.v0+json": {
       "columns": [
        {
         "name": "index",
         "rawType": "int64",
         "type": "integer"
        },
        {
         "name": "CustomerID",
         "rawType": "int64",
         "type": "integer"
        },
        {
         "name": "FirstName",
         "rawType": "object",
         "type": "string"
        },
        {
         "name": "MiddleInitial",
         "rawType": "object",
         "type": "string"
        },
        {
         "name": "LastName",
         "rawType": "object",
         "type": "string"
        },
        {
         "name": "CityID",
         "rawType": "int64",
         "type": "integer"
        },
        {
         "name": "Address",
         "rawType": "object",
         "type": "string"
        }
       ],
       "ref": "5d5d2826-6648-4b86-9380-9d30d7063e78",
       "rows": [
        [
         "0",
         "1",
         "Stefanie",
         "Y",
         "Frye",
         "79",
         "97 Oak Avenue"
        ],
        [
         "1",
         "2",
         "Sandy",
         "T",
         "Kirby",
         "96",
         "52 White First Freeway"
        ],
        [
         "2",
         "3",
         "Lee",
         "T",
         "Zhang",
         "55",
         "921 White Fabien Avenue"
        ],
        [
         "3",
         "4",
         "Regina",
         "S",
         "Avery",
         "40",
         "75 Old Avenue"
        ],
        [
         "4",
         "5",
         "Daniel",
         "S",
         "Mccann",
         "2",
         "283 South Green Hague Avenue"
        ]
       ],
       "shape": {
        "columns": 6,
        "rows": 5
       }
      },
      "text/html": [
       "<div>\n",
       "<style scoped>\n",
       "    .dataframe tbody tr th:only-of-type {\n",
       "        vertical-align: middle;\n",
       "    }\n",
       "\n",
       "    .dataframe tbody tr th {\n",
       "        vertical-align: top;\n",
       "    }\n",
       "\n",
       "    .dataframe thead th {\n",
       "        text-align: right;\n",
       "    }\n",
       "</style>\n",
       "<table border=\"1\" class=\"dataframe\">\n",
       "  <thead>\n",
       "    <tr style=\"text-align: right;\">\n",
       "      <th></th>\n",
       "      <th>CustomerID</th>\n",
       "      <th>FirstName</th>\n",
       "      <th>MiddleInitial</th>\n",
       "      <th>LastName</th>\n",
       "      <th>CityID</th>\n",
       "      <th>Address</th>\n",
       "    </tr>\n",
       "  </thead>\n",
       "  <tbody>\n",
       "    <tr>\n",
       "      <th>0</th>\n",
       "      <td>1</td>\n",
       "      <td>Stefanie</td>\n",
       "      <td>Y</td>\n",
       "      <td>Frye</td>\n",
       "      <td>79</td>\n",
       "      <td>97 Oak Avenue</td>\n",
       "    </tr>\n",
       "    <tr>\n",
       "      <th>1</th>\n",
       "      <td>2</td>\n",
       "      <td>Sandy</td>\n",
       "      <td>T</td>\n",
       "      <td>Kirby</td>\n",
       "      <td>96</td>\n",
       "      <td>52 White First Freeway</td>\n",
       "    </tr>\n",
       "    <tr>\n",
       "      <th>2</th>\n",
       "      <td>3</td>\n",
       "      <td>Lee</td>\n",
       "      <td>T</td>\n",
       "      <td>Zhang</td>\n",
       "      <td>55</td>\n",
       "      <td>921 White Fabien Avenue</td>\n",
       "    </tr>\n",
       "    <tr>\n",
       "      <th>3</th>\n",
       "      <td>4</td>\n",
       "      <td>Regina</td>\n",
       "      <td>S</td>\n",
       "      <td>Avery</td>\n",
       "      <td>40</td>\n",
       "      <td>75 Old Avenue</td>\n",
       "    </tr>\n",
       "    <tr>\n",
       "      <th>4</th>\n",
       "      <td>5</td>\n",
       "      <td>Daniel</td>\n",
       "      <td>S</td>\n",
       "      <td>Mccann</td>\n",
       "      <td>2</td>\n",
       "      <td>283 South Green Hague Avenue</td>\n",
       "    </tr>\n",
       "  </tbody>\n",
       "</table>\n",
       "</div>"
      ],
      "text/plain": [
       "   CustomerID FirstName MiddleInitial LastName  CityID  \\\n",
       "0           1  Stefanie             Y     Frye      79   \n",
       "1           2     Sandy             T    Kirby      96   \n",
       "2           3       Lee             T    Zhang      55   \n",
       "3           4    Regina             S    Avery      40   \n",
       "4           5    Daniel             S   Mccann       2   \n",
       "\n",
       "                        Address  \n",
       "0                 97 Oak Avenue  \n",
       "1        52 White First Freeway  \n",
       "2       921 White Fabien Avenue  \n",
       "3                 75 Old Avenue  \n",
       "4  283 South Green Hague Avenue  "
      ]
     },
     "execution_count": 8,
     "metadata": {},
     "output_type": "execute_result"
    }
   ],
   "source": [
    "# Ejecutar una query con df\n",
    "df = db1.execute_query(\"SELECT * FROM customers LIMIT 5\")\n",
    "df"
   ]
  }
 ],
 "metadata": {
  "kernelspec": {
   "display_name": "env-final",
   "language": "python",
   "name": "python3"
  },
  "language_info": {
   "codemirror_mode": {
    "name": "ipython",
    "version": 3
   },
   "file_extension": ".py",
   "mimetype": "text/x-python",
   "name": "python",
   "nbconvert_exporter": "python",
   "pygments_lexer": "ipython3",
   "version": "3.13.3"
  }
 },
 "nbformat": 4,
 "nbformat_minor": 5
}
