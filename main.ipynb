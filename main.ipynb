{
 "cells": [
  {
   "cell_type": "markdown",
   "id": "ee39dd47",
   "metadata": {},
   "source": [
    "### **Avance 2 - Proyecto Final**"
   ]
  },
  {
   "cell_type": "code",
   "execution_count": 3,
   "id": "2b1d5621",
   "metadata": {},
   "outputs": [],
   "source": [
    "from src.db.database import DBConnection\n",
    "db1 = DBConnection()"
   ]
  },
  {
   "cell_type": "code",
   "execution_count": 4,
   "id": "3c69fc4a",
   "metadata": {},
   "outputs": [
    {
     "name": "stdout",
     "output_type": "stream",
     "text": [
      "2025-06-02 11:46:12,963 INFO sqlalchemy.engine.Engine SELECT DATABASE()\n",
      "2025-06-02 11:46:12,963 INFO sqlalchemy.engine.Engine [raw sql] {}\n",
      "2025-06-02 11:46:12,968 INFO sqlalchemy.engine.Engine SELECT @@sql_mode\n",
      "2025-06-02 11:46:12,969 INFO sqlalchemy.engine.Engine [raw sql] {}\n",
      "2025-06-02 11:46:12,970 INFO sqlalchemy.engine.Engine SELECT @@lower_case_table_names\n",
      "2025-06-02 11:46:12,971 INFO sqlalchemy.engine.Engine [raw sql] {}\n",
      "2025-06-02 11:46:12,973 INFO sqlalchemy.engine.Engine BEGIN (implicit)\n",
      "2025-06-02 11:46:12,973 INFO sqlalchemy.engine.Engine \n",
      "select FirstName as Nombre, LastName as Apellido, Gender as Genero, HireDate as FechaContratacion,\n",
      "CityName as Ciudad, CountryName as Pais from employees e join cities c on e.cityid = c.cityid\n",
      "join countries co on c.countryID= co.countryID LIMIT 5;\n",
      "\n",
      "2025-06-02 11:46:12,974 INFO sqlalchemy.engine.Engine [generated in 0.00130s] {}\n",
      "2025-06-02 11:46:12,977 INFO sqlalchemy.engine.Engine ROLLBACK\n"
     ]
    },
    {
     "data": {
      "application/vnd.microsoft.datawrangler.viewer.v0+json": {
       "columns": [
        {
         "name": "index",
         "rawType": "int64",
         "type": "integer"
        },
        {
         "name": "Nombre",
         "rawType": "object",
         "type": "string"
        },
        {
         "name": "Apellido",
         "rawType": "object",
         "type": "string"
        },
        {
         "name": "Genero",
         "rawType": "object",
         "type": "string"
        },
        {
         "name": "FechaContratacion",
         "rawType": "datetime64[ns]",
         "type": "datetime"
        },
        {
         "name": "Ciudad",
         "rawType": "object",
         "type": "string"
        },
        {
         "name": "Pais",
         "rawType": "object",
         "type": "string"
        }
       ],
       "ref": "bb68cdce-9437-422b-b3a5-86447dc39aa0",
       "rows": [
        [
         "0",
         "Nicole",
         "Fuller",
         "F",
         "2011-06-20 07:15:37",
         "New Orleans",
         "United States"
        ],
        [
         "1",
         "Christine",
         "Palmer",
         "F",
         "2011-04-27 04:07:57",
         "Fremont",
         "United States"
        ],
        [
         "2",
         "Pablo",
         "Cline",
         "M",
         "2012-03-30 18:55:23",
         "Rochester",
         "United States"
        ],
        [
         "3",
         "Darnell",
         "Nielsen",
         "M",
         "2014-03-06 06:55:03",
         "Lubbock",
         "United States"
        ],
        [
         "4",
         "Desiree",
         "Stuart",
         "F",
         "2014-11-16 22:59:55",
         "Anaheim",
         "United States"
        ]
       ],
       "shape": {
        "columns": 6,
        "rows": 5
       }
      },
      "text/html": [
       "<div>\n",
       "<style scoped>\n",
       "    .dataframe tbody tr th:only-of-type {\n",
       "        vertical-align: middle;\n",
       "    }\n",
       "\n",
       "    .dataframe tbody tr th {\n",
       "        vertical-align: top;\n",
       "    }\n",
       "\n",
       "    .dataframe thead th {\n",
       "        text-align: right;\n",
       "    }\n",
       "</style>\n",
       "<table border=\"1\" class=\"dataframe\">\n",
       "  <thead>\n",
       "    <tr style=\"text-align: right;\">\n",
       "      <th></th>\n",
       "      <th>Nombre</th>\n",
       "      <th>Apellido</th>\n",
       "      <th>Genero</th>\n",
       "      <th>FechaContratacion</th>\n",
       "      <th>Ciudad</th>\n",
       "      <th>Pais</th>\n",
       "    </tr>\n",
       "  </thead>\n",
       "  <tbody>\n",
       "    <tr>\n",
       "      <th>0</th>\n",
       "      <td>Nicole</td>\n",
       "      <td>Fuller</td>\n",
       "      <td>F</td>\n",
       "      <td>2011-06-20 07:15:37</td>\n",
       "      <td>New Orleans</td>\n",
       "      <td>United States</td>\n",
       "    </tr>\n",
       "    <tr>\n",
       "      <th>1</th>\n",
       "      <td>Christine</td>\n",
       "      <td>Palmer</td>\n",
       "      <td>F</td>\n",
       "      <td>2011-04-27 04:07:57</td>\n",
       "      <td>Fremont</td>\n",
       "      <td>United States</td>\n",
       "    </tr>\n",
       "    <tr>\n",
       "      <th>2</th>\n",
       "      <td>Pablo</td>\n",
       "      <td>Cline</td>\n",
       "      <td>M</td>\n",
       "      <td>2012-03-30 18:55:23</td>\n",
       "      <td>Rochester</td>\n",
       "      <td>United States</td>\n",
       "    </tr>\n",
       "    <tr>\n",
       "      <th>3</th>\n",
       "      <td>Darnell</td>\n",
       "      <td>Nielsen</td>\n",
       "      <td>M</td>\n",
       "      <td>2014-03-06 06:55:03</td>\n",
       "      <td>Lubbock</td>\n",
       "      <td>United States</td>\n",
       "    </tr>\n",
       "    <tr>\n",
       "      <th>4</th>\n",
       "      <td>Desiree</td>\n",
       "      <td>Stuart</td>\n",
       "      <td>F</td>\n",
       "      <td>2014-11-16 22:59:55</td>\n",
       "      <td>Anaheim</td>\n",
       "      <td>United States</td>\n",
       "    </tr>\n",
       "  </tbody>\n",
       "</table>\n",
       "</div>"
      ],
      "text/plain": [
       "      Nombre Apellido Genero   FechaContratacion       Ciudad           Pais\n",
       "0     Nicole   Fuller      F 2011-06-20 07:15:37  New Orleans  United States\n",
       "1  Christine   Palmer      F 2011-04-27 04:07:57      Fremont  United States\n",
       "2      Pablo    Cline      M 2012-03-30 18:55:23    Rochester  United States\n",
       "3    Darnell  Nielsen      M 2014-03-06 06:55:03      Lubbock  United States\n",
       "4    Desiree   Stuart      F 2014-11-16 22:59:55      Anaheim  United States"
      ]
     },
     "execution_count": 4,
     "metadata": {},
     "output_type": "execute_result"
    }
   ],
   "source": [
    "# Ejecutar una query con df\n",
    "query = \"\"\"\n",
    "select FirstName as Nombre, LastName as Apellido, Gender as Genero, HireDate as FechaContratacion,\n",
    "CityName as Ciudad, CountryName as Pais from employees e join cities c on e.cityid = c.cityid\n",
    "join countries co on c.countryID= co.countryID LIMIT 5;\n",
    "\"\"\"\n",
    "df = db1.execute_query(query)\n",
    "df"
   ]
  },
  {
   "cell_type": "markdown",
   "id": "34bca078",
   "metadata": {},
   "source": [
    "### **Patrones de diseño**"
   ]
  },
  {
   "cell_type": "markdown",
   "id": "15d9045d",
   "metadata": {},
   "source": [
    "**Patron Singleton**"
   ]
  },
  {
   "cell_type": "code",
   "execution_count": 5,
   "id": "2e433db3",
   "metadata": {},
   "outputs": [
    {
     "name": "stdout",
     "output_type": "stream",
     "text": [
      "Es la misma instancia? True\n",
      "Es la misma base de datos? True\n"
     ]
    }
   ],
   "source": [
    "## Verificar Patron Singleton\n",
    "\n",
    "db1 = DBConnection()\n",
    "db2 = DBConnection()\n",
    "\n",
    "print(\"Es la misma instancia?\", db1 is db2)\n",
    "print(\"Es la misma base de datos?\", db1.engine.url == db2.engine.url)"
   ]
  },
  {
   "cell_type": "code",
   "execution_count": 6,
   "id": "1a1fe237",
   "metadata": {},
   "outputs": [],
   "source": [
    "from src.design_patterns.factory import CustomerFactory\n",
    "from src.design_patterns.factory import EmployeeFactory\n",
    "\n",
    "db = DBConnection()"
   ]
  },
  {
   "cell_type": "markdown",
   "id": "0d5128d4",
   "metadata": {},
   "source": [
    "**Patron Factory**"
   ]
  },
  {
   "cell_type": "code",
   "execution_count": 7,
   "id": "fd66bbf6",
   "metadata": {},
   "outputs": [
    {
     "name": "stdout",
     "output_type": "stream",
     "text": [
      "2025-06-02 11:46:35,333 INFO sqlalchemy.engine.Engine BEGIN (implicit)\n",
      "2025-06-02 11:46:35,334 INFO sqlalchemy.engine.Engine Select * from customers limit 10\n",
      "2025-06-02 11:46:35,334 INFO sqlalchemy.engine.Engine [generated in 0.00201s] {}\n",
      "2025-06-02 11:46:35,336 INFO sqlalchemy.engine.Engine ROLLBACK\n"
     ]
    },
    {
     "data": {
      "text/plain": [
       "{'_sa_instance_state': <sqlalchemy.orm.state.InstanceState at 0x1cbd86885f0>,\n",
       " 'CustomerID': 1,\n",
       " 'FirstName': 'Stefanie',\n",
       " 'MiddleInitial': 'Y',\n",
       " 'LastName': 'Frye',\n",
       " 'CityID': 79,\n",
       " 'Address': '97 Oak Avenue'}"
      ]
     },
     "execution_count": 7,
     "metadata": {},
     "output_type": "execute_result"
    }
   ],
   "source": [
    "## Implementación del patrón Factory\n",
    "\n",
    "## Customer Factory\n",
    "\n",
    "df = db.execute_query(\"Select * from customers limit 10\")\n",
    "\n",
    "customers = [CustomerFactory.from_series(row) for _, row in df.iterrows()]\n",
    "\n",
    "customers[0].__dict__"
   ]
  },
  {
   "cell_type": "code",
   "execution_count": 8,
   "id": "68946a30",
   "metadata": {},
   "outputs": [
    {
     "name": "stdout",
     "output_type": "stream",
     "text": [
      "2025-06-02 11:46:39,349 INFO sqlalchemy.engine.Engine BEGIN (implicit)\n",
      "2025-06-02 11:46:39,349 INFO sqlalchemy.engine.Engine Select * from employees limit 10\n",
      "2025-06-02 11:46:39,350 INFO sqlalchemy.engine.Engine [generated in 0.00139s] {}\n",
      "2025-06-02 11:46:39,352 INFO sqlalchemy.engine.Engine ROLLBACK\n",
      "['EmployeeID', 'Firstname', 'MiddleInitial', 'LastName', 'BirthDate', 'Gender', 'CityID', 'HireDate']\n"
     ]
    },
    {
     "data": {
      "text/plain": [
       "{'_sa_instance_state': <sqlalchemy.orm.state.InstanceState at 0x1cbd8689190>,\n",
       " 'EmployeeID': 1,\n",
       " 'FirstName': 'Nicole',\n",
       " 'MiddleInitial': 'T',\n",
       " 'LastName': 'Fuller',\n",
       " 'BirthDate': datetime.date(1981, 3, 7),\n",
       " 'Gender': 'F',\n",
       " 'CityID': 80,\n",
       " 'HireDate': Timestamp('2011-06-20 07:15:37')}"
      ]
     },
     "execution_count": 8,
     "metadata": {},
     "output_type": "execute_result"
    }
   ],
   "source": [
    "## Implementación del patrón Factory\n",
    "\n",
    "## Employee Factory\n",
    "\n",
    "df = db.execute_query(\"Select * from employees limit 10\")\n",
    "print(df.columns.to_list())\n",
    "\n",
    "employees = [EmployeeFactory.from_series(row) for _, row in df.iterrows()]\n",
    "\n",
    "employees[0].__dict__"
   ]
  }
 ],
 "metadata": {
  "kernelspec": {
   "display_name": "env-final",
   "language": "python",
   "name": "python3"
  },
  "language_info": {
   "codemirror_mode": {
    "name": "ipython",
    "version": 3
   },
   "file_extension": ".py",
   "mimetype": "text/x-python",
   "name": "python",
   "nbconvert_exporter": "python",
   "pygments_lexer": "ipython3",
   "version": "3.13.3"
  }
 },
 "nbformat": 4,
 "nbformat_minor": 5
}
