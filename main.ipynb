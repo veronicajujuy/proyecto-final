{
 "cells": [
  {
   "cell_type": "markdown",
   "id": "ee39dd47",
   "metadata": {},
   "source": [
    "### **Avance 2 - Proyecto Final**"
   ]
  },
  {
   "cell_type": "code",
   "execution_count": 2,
   "id": "2b1d5621",
   "metadata": {},
   "outputs": [],
   "source": [
    "from src.db.database import DBConnection\n",
    "db1 = DBConnection()"
   ]
  },
  {
   "cell_type": "code",
   "execution_count": 3,
   "id": "3c69fc4a",
   "metadata": {},
   "outputs": [
    {
     "name": "stdout",
     "output_type": "stream",
     "text": [
      "2025-06-04 23:38:10,939 INFO sqlalchemy.engine.Engine SELECT DATABASE()\n"
     ]
    },
    {
     "name": "stdout",
     "output_type": "stream",
     "text": [
      "2025-06-04 23:38:10,940 INFO sqlalchemy.engine.Engine [raw sql] {}\n",
      "2025-06-04 23:38:10,942 INFO sqlalchemy.engine.Engine SELECT @@sql_mode\n",
      "2025-06-04 23:38:10,943 INFO sqlalchemy.engine.Engine [raw sql] {}\n",
      "2025-06-04 23:38:10,945 INFO sqlalchemy.engine.Engine SELECT @@lower_case_table_names\n",
      "2025-06-04 23:38:10,945 INFO sqlalchemy.engine.Engine [raw sql] {}\n",
      "2025-06-04 23:38:10,949 INFO sqlalchemy.engine.Engine BEGIN (implicit)\n",
      "2025-06-04 23:38:10,949 INFO sqlalchemy.engine.Engine \n",
      "select FirstName as Nombre, LastName as Apellido, Gender as Genero, HireDate as FechaContratacion,\n",
      "CityName as Ciudad, CountryName as Pais from employees e join cities c on e.cityid = c.cityid\n",
      "join countries co on c.countryID= co.countryID LIMIT 5;\n",
      "\n",
      "2025-06-04 23:38:10,950 INFO sqlalchemy.engine.Engine [generated in 0.00153s] {}\n",
      "2025-06-04 23:38:10,954 INFO sqlalchemy.engine.Engine ROLLBACK\n"
     ]
    },
    {
     "data": {
      "application/vnd.microsoft.datawrangler.viewer.v0+json": {
       "columns": [
        {
         "name": "index",
         "rawType": "int64",
         "type": "integer"
        },
        {
         "name": "Nombre",
         "rawType": "object",
         "type": "string"
        },
        {
         "name": "Apellido",
         "rawType": "object",
         "type": "string"
        },
        {
         "name": "Genero",
         "rawType": "object",
         "type": "string"
        },
        {
         "name": "FechaContratacion",
         "rawType": "datetime64[ns]",
         "type": "datetime"
        },
        {
         "name": "Ciudad",
         "rawType": "object",
         "type": "string"
        },
        {
         "name": "Pais",
         "rawType": "object",
         "type": "string"
        }
       ],
       "ref": "a206957e-3e5f-453c-b673-621b80d09ef6",
       "rows": [
        [
         "0",
         "Nicole",
         "Fuller",
         "F",
         "2011-06-20 07:15:37",
         "New Orleans",
         "United States"
        ],
        [
         "1",
         "Christine",
         "Palmer",
         "F",
         "2011-04-27 04:07:57",
         "Fremont",
         "United States"
        ],
        [
         "2",
         "Pablo",
         "Cline",
         "M",
         "2012-03-30 18:55:23",
         "Rochester",
         "United States"
        ],
        [
         "3",
         "Darnell",
         "Nielsen",
         "M",
         "2014-03-06 06:55:03",
         "Lubbock",
         "United States"
        ],
        [
         "4",
         "Desiree",
         "Stuart",
         "F",
         "2014-11-16 22:59:55",
         "Anaheim",
         "United States"
        ]
       ],
       "shape": {
        "columns": 6,
        "rows": 5
       }
      },
      "text/html": [
       "<div>\n",
       "<style scoped>\n",
       "    .dataframe tbody tr th:only-of-type {\n",
       "        vertical-align: middle;\n",
       "    }\n",
       "\n",
       "    .dataframe tbody tr th {\n",
       "        vertical-align: top;\n",
       "    }\n",
       "\n",
       "    .dataframe thead th {\n",
       "        text-align: right;\n",
       "    }\n",
       "</style>\n",
       "<table border=\"1\" class=\"dataframe\">\n",
       "  <thead>\n",
       "    <tr style=\"text-align: right;\">\n",
       "      <th></th>\n",
       "      <th>Nombre</th>\n",
       "      <th>Apellido</th>\n",
       "      <th>Genero</th>\n",
       "      <th>FechaContratacion</th>\n",
       "      <th>Ciudad</th>\n",
       "      <th>Pais</th>\n",
       "    </tr>\n",
       "  </thead>\n",
       "  <tbody>\n",
       "    <tr>\n",
       "      <th>0</th>\n",
       "      <td>Nicole</td>\n",
       "      <td>Fuller</td>\n",
       "      <td>F</td>\n",
       "      <td>2011-06-20 07:15:37</td>\n",
       "      <td>New Orleans</td>\n",
       "      <td>United States</td>\n",
       "    </tr>\n",
       "    <tr>\n",
       "      <th>1</th>\n",
       "      <td>Christine</td>\n",
       "      <td>Palmer</td>\n",
       "      <td>F</td>\n",
       "      <td>2011-04-27 04:07:57</td>\n",
       "      <td>Fremont</td>\n",
       "      <td>United States</td>\n",
       "    </tr>\n",
       "    <tr>\n",
       "      <th>2</th>\n",
       "      <td>Pablo</td>\n",
       "      <td>Cline</td>\n",
       "      <td>M</td>\n",
       "      <td>2012-03-30 18:55:23</td>\n",
       "      <td>Rochester</td>\n",
       "      <td>United States</td>\n",
       "    </tr>\n",
       "    <tr>\n",
       "      <th>3</th>\n",
       "      <td>Darnell</td>\n",
       "      <td>Nielsen</td>\n",
       "      <td>M</td>\n",
       "      <td>2014-03-06 06:55:03</td>\n",
       "      <td>Lubbock</td>\n",
       "      <td>United States</td>\n",
       "    </tr>\n",
       "    <tr>\n",
       "      <th>4</th>\n",
       "      <td>Desiree</td>\n",
       "      <td>Stuart</td>\n",
       "      <td>F</td>\n",
       "      <td>2014-11-16 22:59:55</td>\n",
       "      <td>Anaheim</td>\n",
       "      <td>United States</td>\n",
       "    </tr>\n",
       "  </tbody>\n",
       "</table>\n",
       "</div>"
      ],
      "text/plain": [
       "      Nombre Apellido Genero   FechaContratacion       Ciudad           Pais\n",
       "0     Nicole   Fuller      F 2011-06-20 07:15:37  New Orleans  United States\n",
       "1  Christine   Palmer      F 2011-04-27 04:07:57      Fremont  United States\n",
       "2      Pablo    Cline      M 2012-03-30 18:55:23    Rochester  United States\n",
       "3    Darnell  Nielsen      M 2014-03-06 06:55:03      Lubbock  United States\n",
       "4    Desiree   Stuart      F 2014-11-16 22:59:55      Anaheim  United States"
      ]
     },
     "execution_count": 3,
     "metadata": {},
     "output_type": "execute_result"
    }
   ],
   "source": [
    "# Ejecutar una query con df\n",
    "query = \"\"\"\n",
    "select FirstName as Nombre, LastName as Apellido, Gender as Genero, HireDate as FechaContratacion,\n",
    "CityName as Ciudad, CountryName as Pais from employees e join cities c on e.cityid = c.cityid\n",
    "join countries co on c.countryID= co.countryID LIMIT 5;\n",
    "\"\"\"\n",
    "df = db1.execute_query(query)\n",
    "df"
   ]
  },
  {
   "cell_type": "markdown",
   "id": "34bca078",
   "metadata": {},
   "source": [
    "### **Patrones de diseño**"
   ]
  },
  {
   "cell_type": "markdown",
   "id": "15d9045d",
   "metadata": {},
   "source": [
    "**Patron Singleton**"
   ]
  },
  {
   "cell_type": "code",
   "execution_count": 3,
   "id": "2e433db3",
   "metadata": {},
   "outputs": [
    {
     "name": "stdout",
     "output_type": "stream",
     "text": [
      "Es la misma instancia? True\n",
      "Es la misma base de datos? True\n"
     ]
    }
   ],
   "source": [
    "## Verificar Patron Singleton\n",
    "\n",
    "db1 = DBConnection()\n",
    "db2 = DBConnection()\n",
    "\n",
    "print(\"Es la misma instancia?\", db1 is db2)\n",
    "print(\"Es la misma base de datos?\", db1.engine.url == db2.engine.url)"
   ]
  },
  {
   "cell_type": "code",
   "execution_count": 15,
   "id": "1a1fe237",
   "metadata": {},
   "outputs": [],
   "source": [
    "# Conectarse a la base de datos\n",
    "# Esto no creará una nueva conexión, sino que reutilizará la existente\n",
    "\n",
    "db = DBConnection()"
   ]
  },
  {
   "cell_type": "markdown",
   "id": "0d5128d4",
   "metadata": {},
   "source": [
    "**Patron Factory**"
   ]
  },
  {
   "cell_type": "code",
   "execution_count": 50,
   "id": "fd66bbf6",
   "metadata": {},
   "outputs": [
    {
     "name": "stdout",
     "output_type": "stream",
     "text": [
      "2025-06-05 00:31:34,789 INFO sqlalchemy.engine.Engine BEGIN (implicit)\n",
      "2025-06-05 00:31:34,790 INFO sqlalchemy.engine.Engine \n",
      "select SalesID, s.ProductID, ProductName, Quantity, TotalPrice, c.CustomerID, coalesce(concat( c.LastName, \", \", c.FirstName, \" \", c.MiddleInitial, \".\"), \"Sin nombre\") as CustomerName,\n",
      "e.EmployeeID, concat(e.LastName, \", \", e.FirstName, \" \", e.MiddleInitial, \".\") as EmployeeName\n",
      "from sales s join products p on s.productid = p.ProductID\n",
      "join customers c on s.CustomerID = c.CustomerID \n",
      "join employees e on s.SalesPersonID = e.EmployeeID\n",
      "order by c.CustomerID;\n",
      "\n",
      "2025-06-05 00:31:34,790 INFO sqlalchemy.engine.Engine [generated in 0.00142s] {}\n",
      "2025-06-05 00:31:35,480 INFO sqlalchemy.engine.Engine ROLLBACK\n"
     ]
    },
    {
     "data": {
      "text/plain": [
       "{'sale_id': 2494538,\n",
       " 'product_id': 405,\n",
       " 'product_name': 'Pastry - Raisin Muffin - Mini',\n",
       " 'quantity': 1,\n",
       " 'customer_id': 1,\n",
       " 'customer_name': 'Frye, Stefanie Y.',\n",
       " 'employee_id': 2,\n",
       " 'employee_name': 'Palmer, Christine W.',\n",
       " 'total_price': Decimal('2.00')}"
      ]
     },
     "execution_count": 50,
     "metadata": {},
     "output_type": "execute_result"
    }
   ],
   "source": [
    "## Implementación del patrón Factory\n",
    "\n",
    "## SalesSummary\n",
    "\n",
    "from src.design_patterns.factory import SalesSummary\n",
    "\n",
    "query_sales = \"\"\"\n",
    "select SalesID, s.ProductID, ProductName, Quantity, TotalPrice, c.CustomerID, coalesce(concat( c.LastName, \", \", c.FirstName, \" \", c.MiddleInitial, \".\"), \"Sin nombre\") as CustomerName,\n",
    "e.EmployeeID, concat(e.LastName, \", \", e.FirstName, \" \", e.MiddleInitial, \".\") as EmployeeName\n",
    "from sales s join products p on s.productid = p.ProductID\n",
    "join customers c on s.CustomerID = c.CustomerID \n",
    "join employees e on s.SalesPersonID = e.EmployeeID\n",
    "order by c.CustomerID;\n",
    "\"\"\"\n",
    "df_sales = db.execute_query(query_sales)\n",
    "sales = [SalesSummary.from_series(row) for _, row in df_sales.iterrows()]\n",
    "sales[0].__dict__"
   ]
  },
  {
   "cell_type": "code",
   "execution_count": 19,
   "id": "68946a30",
   "metadata": {},
   "outputs": [
    {
     "name": "stdout",
     "output_type": "stream",
     "text": [
      "2025-06-05 00:01:40,280 INFO sqlalchemy.engine.Engine BEGIN (implicit)\n",
      "2025-06-05 00:01:40,281 INFO sqlalchemy.engine.Engine \n",
      "select CustomerID, FirstName, coalesce(MiddleInitial, \"\") as MiddleInitial, LastName, Address, CityName, CountryName\n",
      "from customers cu join cities ci on cu.cityID = ci.CityID\n",
      "join countries co on ci.CountryID = co.CountryID;\n",
      "\n",
      "2025-06-05 00:01:40,281 INFO sqlalchemy.engine.Engine [cached since 1385s ago] {}\n",
      "2025-06-05 00:01:40,645 INFO sqlalchemy.engine.Engine ROLLBACK\n"
     ]
    }
   ],
   "source": [
    "## Implementación del patrón Factory\n",
    "\n",
    "from src.design_patterns.factory import CustomerLocationInfo\n",
    "\n",
    "## CustomerLocationInfo\n",
    "query_customer_location = \"\"\"\n",
    "select CustomerID, FirstName, coalesce(MiddleInitial, \"\") as MiddleInitial, LastName, Address, CityName, CountryName\n",
    "from customers cu join cities ci on cu.cityID = ci.CityID\n",
    "join countries co on ci.CountryID = co.CountryID;\n",
    "\"\"\"\n",
    "df_customer_location = db.execute_query(query_customer_location)\n",
    "customer_locations = [CustomerLocationInfo.from_series(row) for _, row in df_customer_location.iterrows()]\n"
   ]
  },
  {
   "cell_type": "code",
   "execution_count": 20,
   "id": "3ca6109f",
   "metadata": {},
   "outputs": [
    {
     "name": "stdout",
     "output_type": "stream",
     "text": [
      "2025-06-05 00:02:39,382 INFO sqlalchemy.engine.Engine BEGIN (implicit)\n",
      "2025-06-05 00:02:39,383 INFO sqlalchemy.engine.Engine \n",
      "select SalesID, s.ProductID, ProductName, Quantity, TotalPrice, c.CustomerID, coalesce(concat(c.FirstName, \" \", c.MiddleInitial, \". \", c.LastName), \"Sin nombre\") as CustomerName,\n",
      "e.EmployeeID, concat(e.FirstName, \" \", e.MiddleInitial, \". \", e.LastName) as EmployeeName\n",
      "from sales s join products p on s.productid = p.ProductID\n",
      "join customers c on s.CustomerID = c.CustomerID \n",
      "join employees e on s.SalesPersonID = e.EmployeeID\n",
      "order by c.CustomerID;\n",
      "\n",
      "2025-06-05 00:02:39,383 INFO sqlalchemy.engine.Engine [cached since 348.6s ago] {}\n",
      "2025-06-05 00:02:39,866 INFO sqlalchemy.engine.Engine ROLLBACK\n"
     ]
    }
   ],
   "source": [
    "## Implementación del patrón Strategy\n",
    "df_sales = db1.execute_query(query_sales)"
   ]
  },
  {
   "cell_type": "code",
   "execution_count": 52,
   "id": "0781fa57",
   "metadata": {},
   "outputs": [
    {
     "data": {
      "application/vnd.microsoft.datawrangler.viewer.v0+json": {
       "columns": [
        {
         "name": "index",
         "rawType": "int64",
         "type": "integer"
        },
        {
         "name": "IDVendedor",
         "rawType": "int64",
         "type": "integer"
        },
        {
         "name": "Nombre Apellido Vendedor",
         "rawType": "object",
         "type": "string"
        },
        {
         "name": "TotalVentas",
         "rawType": "object",
         "type": "unknown"
        }
       ],
       "ref": "94ed14bc-71e4-4dfa-9f61-7bb32331135a",
       "rows": [
        [
         "17",
         "18",
         "Bartlett, Warren C.",
         "512154.00"
        ],
        [
         "20",
         "21",
         "Brewer, Devon D.",
         "618744.00"
        ],
        [
         "13",
         "14",
         "Buckley, Wendi G.",
         "406812.00"
        ],
        [
         "11",
         "12",
         "Chen, Lindsay M.",
         "338664.00"
        ],
        [
         "2",
         "3",
         "Cline, Pablo Y.",
         "83925.00"
        ],
        [
         "5",
         "6",
         "Collins, Holly E.",
         "171600.00"
        ],
        [
         "6",
         "7",
         "Cook, Chadwick P.",
         "195111.00"
        ],
        [
         "10",
         "11",
         "Dickson, Sonya E.",
         "308726.00"
        ],
        [
         "7",
         "8",
         "Dyer, Julie E.",
         "241680.00"
        ],
        [
         "14",
         "15",
         "Finley, Kari D.",
         "416940.00"
        ],
        [
         "22",
         "23",
         "Flowers, Janet K.",
         "665091.00"
        ],
        [
         "16",
         "17",
         "Franco, Seth D.",
         "463658.00"
        ],
        [
         "0",
         "1",
         "Fuller, Nicole T.",
         "28287.00"
        ],
        [
         "8",
         "9",
         "King, Daphne X.",
         "251775.00"
        ],
        [
         "12",
         "13",
         "Marks, Katina Y.",
         "368511.00"
        ],
        [
         "21",
         "22",
         "Mc Millan, Tonia O.",
         "631158.00"
        ],
        [
         "18",
         "19",
         "Moody, Bernard L.",
         "538954.00"
        ],
        [
         "3",
         "4",
         "Nielsen, Darnell O.",
         "110060.00"
        ],
        [
         "1",
         "2",
         "Palmer, Christine W.",
         "58174.00"
        ],
        [
         "19",
         "20",
         "Riddle, Shelby P.",
         "569220.00"
        ],
        [
         "4",
         "5",
         "Stuart, Desiree L.",
         "140985.00"
        ],
        [
         "9",
         "10",
         "Vang, Jean P.",
         "284590.00"
        ],
        [
         "15",
         "16",
         "Walton, Chadwick U.",
         "458800.00"
        ]
       ],
       "shape": {
        "columns": 3,
        "rows": 23
       }
      },
      "text/html": [
       "<div>\n",
       "<style scoped>\n",
       "    .dataframe tbody tr th:only-of-type {\n",
       "        vertical-align: middle;\n",
       "    }\n",
       "\n",
       "    .dataframe tbody tr th {\n",
       "        vertical-align: top;\n",
       "    }\n",
       "\n",
       "    .dataframe thead th {\n",
       "        text-align: right;\n",
       "    }\n",
       "</style>\n",
       "<table border=\"1\" class=\"dataframe\">\n",
       "  <thead>\n",
       "    <tr style=\"text-align: right;\">\n",
       "      <th></th>\n",
       "      <th>IDVendedor</th>\n",
       "      <th>Nombre Apellido Vendedor</th>\n",
       "      <th>TotalVentas</th>\n",
       "    </tr>\n",
       "  </thead>\n",
       "  <tbody>\n",
       "    <tr>\n",
       "      <th>17</th>\n",
       "      <td>18</td>\n",
       "      <td>Bartlett, Warren C.</td>\n",
       "      <td>512154.00</td>\n",
       "    </tr>\n",
       "    <tr>\n",
       "      <th>20</th>\n",
       "      <td>21</td>\n",
       "      <td>Brewer, Devon D.</td>\n",
       "      <td>618744.00</td>\n",
       "    </tr>\n",
       "    <tr>\n",
       "      <th>13</th>\n",
       "      <td>14</td>\n",
       "      <td>Buckley, Wendi G.</td>\n",
       "      <td>406812.00</td>\n",
       "    </tr>\n",
       "    <tr>\n",
       "      <th>11</th>\n",
       "      <td>12</td>\n",
       "      <td>Chen, Lindsay M.</td>\n",
       "      <td>338664.00</td>\n",
       "    </tr>\n",
       "    <tr>\n",
       "      <th>2</th>\n",
       "      <td>3</td>\n",
       "      <td>Cline, Pablo Y.</td>\n",
       "      <td>83925.00</td>\n",
       "    </tr>\n",
       "    <tr>\n",
       "      <th>5</th>\n",
       "      <td>6</td>\n",
       "      <td>Collins, Holly E.</td>\n",
       "      <td>171600.00</td>\n",
       "    </tr>\n",
       "    <tr>\n",
       "      <th>6</th>\n",
       "      <td>7</td>\n",
       "      <td>Cook, Chadwick P.</td>\n",
       "      <td>195111.00</td>\n",
       "    </tr>\n",
       "    <tr>\n",
       "      <th>10</th>\n",
       "      <td>11</td>\n",
       "      <td>Dickson, Sonya E.</td>\n",
       "      <td>308726.00</td>\n",
       "    </tr>\n",
       "    <tr>\n",
       "      <th>7</th>\n",
       "      <td>8</td>\n",
       "      <td>Dyer, Julie E.</td>\n",
       "      <td>241680.00</td>\n",
       "    </tr>\n",
       "    <tr>\n",
       "      <th>14</th>\n",
       "      <td>15</td>\n",
       "      <td>Finley, Kari D.</td>\n",
       "      <td>416940.00</td>\n",
       "    </tr>\n",
       "    <tr>\n",
       "      <th>22</th>\n",
       "      <td>23</td>\n",
       "      <td>Flowers, Janet K.</td>\n",
       "      <td>665091.00</td>\n",
       "    </tr>\n",
       "    <tr>\n",
       "      <th>16</th>\n",
       "      <td>17</td>\n",
       "      <td>Franco, Seth D.</td>\n",
       "      <td>463658.00</td>\n",
       "    </tr>\n",
       "    <tr>\n",
       "      <th>0</th>\n",
       "      <td>1</td>\n",
       "      <td>Fuller, Nicole T.</td>\n",
       "      <td>28287.00</td>\n",
       "    </tr>\n",
       "    <tr>\n",
       "      <th>8</th>\n",
       "      <td>9</td>\n",
       "      <td>King, Daphne X.</td>\n",
       "      <td>251775.00</td>\n",
       "    </tr>\n",
       "    <tr>\n",
       "      <th>12</th>\n",
       "      <td>13</td>\n",
       "      <td>Marks, Katina Y.</td>\n",
       "      <td>368511.00</td>\n",
       "    </tr>\n",
       "    <tr>\n",
       "      <th>21</th>\n",
       "      <td>22</td>\n",
       "      <td>Mc Millan, Tonia O.</td>\n",
       "      <td>631158.00</td>\n",
       "    </tr>\n",
       "    <tr>\n",
       "      <th>18</th>\n",
       "      <td>19</td>\n",
       "      <td>Moody, Bernard L.</td>\n",
       "      <td>538954.00</td>\n",
       "    </tr>\n",
       "    <tr>\n",
       "      <th>3</th>\n",
       "      <td>4</td>\n",
       "      <td>Nielsen, Darnell O.</td>\n",
       "      <td>110060.00</td>\n",
       "    </tr>\n",
       "    <tr>\n",
       "      <th>1</th>\n",
       "      <td>2</td>\n",
       "      <td>Palmer, Christine W.</td>\n",
       "      <td>58174.00</td>\n",
       "    </tr>\n",
       "    <tr>\n",
       "      <th>19</th>\n",
       "      <td>20</td>\n",
       "      <td>Riddle, Shelby P.</td>\n",
       "      <td>569220.00</td>\n",
       "    </tr>\n",
       "    <tr>\n",
       "      <th>4</th>\n",
       "      <td>5</td>\n",
       "      <td>Stuart, Desiree L.</td>\n",
       "      <td>140985.00</td>\n",
       "    </tr>\n",
       "    <tr>\n",
       "      <th>9</th>\n",
       "      <td>10</td>\n",
       "      <td>Vang, Jean P.</td>\n",
       "      <td>284590.00</td>\n",
       "    </tr>\n",
       "    <tr>\n",
       "      <th>15</th>\n",
       "      <td>16</td>\n",
       "      <td>Walton, Chadwick U.</td>\n",
       "      <td>458800.00</td>\n",
       "    </tr>\n",
       "  </tbody>\n",
       "</table>\n",
       "</div>"
      ],
      "text/plain": [
       "    IDVendedor Nombre Apellido Vendedor TotalVentas\n",
       "17          18      Bartlett, Warren C.   512154.00\n",
       "20          21         Brewer, Devon D.   618744.00\n",
       "13          14        Buckley, Wendi G.   406812.00\n",
       "11          12         Chen, Lindsay M.   338664.00\n",
       "2            3          Cline, Pablo Y.    83925.00\n",
       "5            6        Collins, Holly E.   171600.00\n",
       "6            7        Cook, Chadwick P.   195111.00\n",
       "10          11        Dickson, Sonya E.   308726.00\n",
       "7            8           Dyer, Julie E.   241680.00\n",
       "14          15          Finley, Kari D.   416940.00\n",
       "22          23        Flowers, Janet K.   665091.00\n",
       "16          17          Franco, Seth D.   463658.00\n",
       "0            1        Fuller, Nicole T.    28287.00\n",
       "8            9          King, Daphne X.   251775.00\n",
       "12          13         Marks, Katina Y.   368511.00\n",
       "21          22      Mc Millan, Tonia O.   631158.00\n",
       "18          19        Moody, Bernard L.   538954.00\n",
       "3            4      Nielsen, Darnell O.   110060.00\n",
       "1            2     Palmer, Christine W.    58174.00\n",
       "19          20        Riddle, Shelby P.   569220.00\n",
       "4            5       Stuart, Desiree L.   140985.00\n",
       "9           10            Vang, Jean P.   284590.00\n",
       "15          16      Walton, Chadwick U.   458800.00"
      ]
     },
     "execution_count": 52,
     "metadata": {},
     "output_type": "execute_result"
    }
   ],
   "source": [
    "from src.design_patterns.strategy import TotalSalesByEmployee\n",
    "\n",
    "report = TotalSalesByEmployee()\n",
    "report.generate_report(df_sales,\"EmployeeName\")"
   ]
  },
  {
   "cell_type": "code",
   "execution_count": 53,
   "id": "8e65fab5",
   "metadata": {},
   "outputs": [
    {
     "data": {
      "application/vnd.microsoft.datawrangler.viewer.v0+json": {
       "columns": [
        {
         "name": "index",
         "rawType": "int64",
         "type": "integer"
        },
        {
         "name": "IDVendedor",
         "rawType": "int64",
         "type": "integer"
        },
        {
         "name": "Nombre Apellido Vendedor",
         "rawType": "object",
         "type": "string"
        },
        {
         "name": "Promedio de ventas",
         "rawType": "object",
         "type": "unknown"
        }
       ],
       "ref": "a7b5a5c0-b793-4b95-a146-38aca191e620",
       "rows": [
        [
         "17",
         "18",
         "Bartlett, Warren C.",
         "232.26938775510203"
        ],
        [
         "20",
         "21",
         "Brewer, Devon D.",
         "275.2419928825623"
        ],
        [
         "13",
         "14",
         "Buckley, Wendi G.",
         "181.45049063336307"
        ],
        [
         "11",
         "12",
         "Chen, Lindsay M.",
         "156.21033210332104"
        ],
        [
         "2",
         "3",
         "Cline, Pablo Y.",
         "39.662098298676746"
        ],
        [
         "5",
         "6",
         "Collins, Holly E.",
         "78.49954254345838"
        ],
        [
         "6",
         "7",
         "Cook, Chadwick P.",
         "91.90343853038154"
        ],
        [
         "10",
         "11",
         "Dickson, Sonya E.",
         "143.46003717472118"
        ],
        [
         "7",
         "8",
         "Dyer, Julie E.",
         "106.32644082710075"
        ],
        [
         "14",
         "15",
         "Finley, Kari D.",
         "197.41477272727272"
        ],
        [
         "22",
         "23",
         "Flowers, Janet K.",
         "303.6945205479452"
        ],
        [
         "16",
         "17",
         "Franco, Seth D.",
         "221.63384321223708"
        ],
        [
         "0",
         "1",
         "Fuller, Nicole T.",
         "13.089773253123553"
        ],
        [
         "8",
         "9",
         "King, Daphne X.",
         "116.94147700882489"
        ],
        [
         "12",
         "13",
         "Marks, Katina Y.",
         "169.2746899402848"
        ],
        [
         "21",
         "22",
         "Mc Millan, Tonia O.",
         "292.2027777777778"
        ],
        [
         "18",
         "19",
         "Moody, Bernard L.",
         "249.74698795180723"
        ],
        [
         "3",
         "4",
         "Nielsen, Darnell O.",
         "52.03782505910166"
        ],
        [
         "1",
         "2",
         "Palmer, Christine W.",
         "25.83214920071048"
        ],
        [
         "19",
         "20",
         "Riddle, Shelby P.",
         "263.0406654343808"
        ],
        [
         "4",
         "5",
         "Stuart, Desiree L.",
         "65.0"
        ],
        [
         "9",
         "10",
         "Vang, Jean P.",
         "130.6057824690225"
        ],
        [
         "15",
         "16",
         "Walton, Chadwick U.",
         "208.07256235827666"
        ]
       ],
       "shape": {
        "columns": 3,
        "rows": 23
       }
      },
      "text/html": [
       "<div>\n",
       "<style scoped>\n",
       "    .dataframe tbody tr th:only-of-type {\n",
       "        vertical-align: middle;\n",
       "    }\n",
       "\n",
       "    .dataframe tbody tr th {\n",
       "        vertical-align: top;\n",
       "    }\n",
       "\n",
       "    .dataframe thead th {\n",
       "        text-align: right;\n",
       "    }\n",
       "</style>\n",
       "<table border=\"1\" class=\"dataframe\">\n",
       "  <thead>\n",
       "    <tr style=\"text-align: right;\">\n",
       "      <th></th>\n",
       "      <th>IDVendedor</th>\n",
       "      <th>Nombre Apellido Vendedor</th>\n",
       "      <th>Promedio de ventas</th>\n",
       "    </tr>\n",
       "  </thead>\n",
       "  <tbody>\n",
       "    <tr>\n",
       "      <th>17</th>\n",
       "      <td>18</td>\n",
       "      <td>Bartlett, Warren C.</td>\n",
       "      <td>232.269388</td>\n",
       "    </tr>\n",
       "    <tr>\n",
       "      <th>20</th>\n",
       "      <td>21</td>\n",
       "      <td>Brewer, Devon D.</td>\n",
       "      <td>275.241993</td>\n",
       "    </tr>\n",
       "    <tr>\n",
       "      <th>13</th>\n",
       "      <td>14</td>\n",
       "      <td>Buckley, Wendi G.</td>\n",
       "      <td>181.450491</td>\n",
       "    </tr>\n",
       "    <tr>\n",
       "      <th>11</th>\n",
       "      <td>12</td>\n",
       "      <td>Chen, Lindsay M.</td>\n",
       "      <td>156.210332</td>\n",
       "    </tr>\n",
       "    <tr>\n",
       "      <th>2</th>\n",
       "      <td>3</td>\n",
       "      <td>Cline, Pablo Y.</td>\n",
       "      <td>39.662098</td>\n",
       "    </tr>\n",
       "    <tr>\n",
       "      <th>5</th>\n",
       "      <td>6</td>\n",
       "      <td>Collins, Holly E.</td>\n",
       "      <td>78.499543</td>\n",
       "    </tr>\n",
       "    <tr>\n",
       "      <th>6</th>\n",
       "      <td>7</td>\n",
       "      <td>Cook, Chadwick P.</td>\n",
       "      <td>91.903439</td>\n",
       "    </tr>\n",
       "    <tr>\n",
       "      <th>10</th>\n",
       "      <td>11</td>\n",
       "      <td>Dickson, Sonya E.</td>\n",
       "      <td>143.460037</td>\n",
       "    </tr>\n",
       "    <tr>\n",
       "      <th>7</th>\n",
       "      <td>8</td>\n",
       "      <td>Dyer, Julie E.</td>\n",
       "      <td>106.326441</td>\n",
       "    </tr>\n",
       "    <tr>\n",
       "      <th>14</th>\n",
       "      <td>15</td>\n",
       "      <td>Finley, Kari D.</td>\n",
       "      <td>197.414773</td>\n",
       "    </tr>\n",
       "    <tr>\n",
       "      <th>22</th>\n",
       "      <td>23</td>\n",
       "      <td>Flowers, Janet K.</td>\n",
       "      <td>303.694521</td>\n",
       "    </tr>\n",
       "    <tr>\n",
       "      <th>16</th>\n",
       "      <td>17</td>\n",
       "      <td>Franco, Seth D.</td>\n",
       "      <td>221.633843</td>\n",
       "    </tr>\n",
       "    <tr>\n",
       "      <th>0</th>\n",
       "      <td>1</td>\n",
       "      <td>Fuller, Nicole T.</td>\n",
       "      <td>13.089773</td>\n",
       "    </tr>\n",
       "    <tr>\n",
       "      <th>8</th>\n",
       "      <td>9</td>\n",
       "      <td>King, Daphne X.</td>\n",
       "      <td>116.941477</td>\n",
       "    </tr>\n",
       "    <tr>\n",
       "      <th>12</th>\n",
       "      <td>13</td>\n",
       "      <td>Marks, Katina Y.</td>\n",
       "      <td>169.27469</td>\n",
       "    </tr>\n",
       "    <tr>\n",
       "      <th>21</th>\n",
       "      <td>22</td>\n",
       "      <td>Mc Millan, Tonia O.</td>\n",
       "      <td>292.202778</td>\n",
       "    </tr>\n",
       "    <tr>\n",
       "      <th>18</th>\n",
       "      <td>19</td>\n",
       "      <td>Moody, Bernard L.</td>\n",
       "      <td>249.746988</td>\n",
       "    </tr>\n",
       "    <tr>\n",
       "      <th>3</th>\n",
       "      <td>4</td>\n",
       "      <td>Nielsen, Darnell O.</td>\n",
       "      <td>52.037825</td>\n",
       "    </tr>\n",
       "    <tr>\n",
       "      <th>1</th>\n",
       "      <td>2</td>\n",
       "      <td>Palmer, Christine W.</td>\n",
       "      <td>25.832149</td>\n",
       "    </tr>\n",
       "    <tr>\n",
       "      <th>19</th>\n",
       "      <td>20</td>\n",
       "      <td>Riddle, Shelby P.</td>\n",
       "      <td>263.040665</td>\n",
       "    </tr>\n",
       "    <tr>\n",
       "      <th>4</th>\n",
       "      <td>5</td>\n",
       "      <td>Stuart, Desiree L.</td>\n",
       "      <td>65.0</td>\n",
       "    </tr>\n",
       "    <tr>\n",
       "      <th>9</th>\n",
       "      <td>10</td>\n",
       "      <td>Vang, Jean P.</td>\n",
       "      <td>130.605782</td>\n",
       "    </tr>\n",
       "    <tr>\n",
       "      <th>15</th>\n",
       "      <td>16</td>\n",
       "      <td>Walton, Chadwick U.</td>\n",
       "      <td>208.072562</td>\n",
       "    </tr>\n",
       "  </tbody>\n",
       "</table>\n",
       "</div>"
      ],
      "text/plain": [
       "    IDVendedor Nombre Apellido Vendedor Promedio de ventas\n",
       "17          18      Bartlett, Warren C.         232.269388\n",
       "20          21         Brewer, Devon D.         275.241993\n",
       "13          14        Buckley, Wendi G.         181.450491\n",
       "11          12         Chen, Lindsay M.         156.210332\n",
       "2            3          Cline, Pablo Y.          39.662098\n",
       "5            6        Collins, Holly E.          78.499543\n",
       "6            7        Cook, Chadwick P.          91.903439\n",
       "10          11        Dickson, Sonya E.         143.460037\n",
       "7            8           Dyer, Julie E.         106.326441\n",
       "14          15          Finley, Kari D.         197.414773\n",
       "22          23        Flowers, Janet K.         303.694521\n",
       "16          17          Franco, Seth D.         221.633843\n",
       "0            1        Fuller, Nicole T.          13.089773\n",
       "8            9          King, Daphne X.         116.941477\n",
       "12          13         Marks, Katina Y.          169.27469\n",
       "21          22      Mc Millan, Tonia O.         292.202778\n",
       "18          19        Moody, Bernard L.         249.746988\n",
       "3            4      Nielsen, Darnell O.          52.037825\n",
       "1            2     Palmer, Christine W.          25.832149\n",
       "19          20        Riddle, Shelby P.         263.040665\n",
       "4            5       Stuart, Desiree L.               65.0\n",
       "9           10            Vang, Jean P.         130.605782\n",
       "15          16      Walton, Chadwick U.         208.072562"
      ]
     },
     "execution_count": 53,
     "metadata": {},
     "output_type": "execute_result"
    }
   ],
   "source": [
    "from src.design_patterns.strategy import AverageSalesByEmployee\n",
    "\n",
    "report = AverageSalesByEmployee()\n",
    "report.generate_report(df_sales,\"EmployeeName\")"
   ]
  },
  {
   "cell_type": "code",
   "execution_count": 54,
   "id": "f24d4e06",
   "metadata": {},
   "outputs": [
    {
     "data": {
      "application/vnd.microsoft.datawrangler.viewer.v0+json": {
       "columns": [
        {
         "name": "index",
         "rawType": "int64",
         "type": "integer"
        },
        {
         "name": "IDVendedor",
         "rawType": "int64",
         "type": "integer"
        },
        {
         "name": "Nombre Apellido Vendedor",
         "rawType": "object",
         "type": "string"
        },
        {
         "name": "Cantidad de productos vendidos",
         "rawType": "int64",
         "type": "integer"
        }
       ],
       "ref": "68160880-db31-4155-85b6-13aefe5acc51",
       "rows": [
        [
         "17",
         "18",
         "Bartlett, Warren C.",
         "2205"
        ],
        [
         "20",
         "21",
         "Brewer, Devon D.",
         "2248"
        ],
        [
         "13",
         "14",
         "Buckley, Wendi G.",
         "2242"
        ],
        [
         "11",
         "12",
         "Chen, Lindsay M.",
         "2168"
        ],
        [
         "2",
         "3",
         "Cline, Pablo Y.",
         "2116"
        ],
        [
         "5",
         "6",
         "Collins, Holly E.",
         "2186"
        ],
        [
         "6",
         "7",
         "Cook, Chadwick P.",
         "2123"
        ],
        [
         "10",
         "11",
         "Dickson, Sonya E.",
         "2152"
        ],
        [
         "7",
         "8",
         "Dyer, Julie E.",
         "2273"
        ],
        [
         "14",
         "15",
         "Finley, Kari D.",
         "2112"
        ],
        [
         "22",
         "23",
         "Flowers, Janet K.",
         "2190"
        ],
        [
         "16",
         "17",
         "Franco, Seth D.",
         "2092"
        ],
        [
         "0",
         "1",
         "Fuller, Nicole T.",
         "2161"
        ],
        [
         "8",
         "9",
         "King, Daphne X.",
         "2153"
        ],
        [
         "12",
         "13",
         "Marks, Katina Y.",
         "2177"
        ],
        [
         "21",
         "22",
         "Mc Millan, Tonia O.",
         "2160"
        ],
        [
         "18",
         "19",
         "Moody, Bernard L.",
         "2158"
        ],
        [
         "3",
         "4",
         "Nielsen, Darnell O.",
         "2115"
        ],
        [
         "1",
         "2",
         "Palmer, Christine W.",
         "2252"
        ],
        [
         "19",
         "20",
         "Riddle, Shelby P.",
         "2164"
        ],
        [
         "4",
         "5",
         "Stuart, Desiree L.",
         "2169"
        ],
        [
         "9",
         "10",
         "Vang, Jean P.",
         "2179"
        ],
        [
         "15",
         "16",
         "Walton, Chadwick U.",
         "2205"
        ]
       ],
       "shape": {
        "columns": 3,
        "rows": 23
       }
      },
      "text/html": [
       "<div>\n",
       "<style scoped>\n",
       "    .dataframe tbody tr th:only-of-type {\n",
       "        vertical-align: middle;\n",
       "    }\n",
       "\n",
       "    .dataframe tbody tr th {\n",
       "        vertical-align: top;\n",
       "    }\n",
       "\n",
       "    .dataframe thead th {\n",
       "        text-align: right;\n",
       "    }\n",
       "</style>\n",
       "<table border=\"1\" class=\"dataframe\">\n",
       "  <thead>\n",
       "    <tr style=\"text-align: right;\">\n",
       "      <th></th>\n",
       "      <th>IDVendedor</th>\n",
       "      <th>Nombre Apellido Vendedor</th>\n",
       "      <th>Cantidad de productos vendidos</th>\n",
       "    </tr>\n",
       "  </thead>\n",
       "  <tbody>\n",
       "    <tr>\n",
       "      <th>17</th>\n",
       "      <td>18</td>\n",
       "      <td>Bartlett, Warren C.</td>\n",
       "      <td>2205</td>\n",
       "    </tr>\n",
       "    <tr>\n",
       "      <th>20</th>\n",
       "      <td>21</td>\n",
       "      <td>Brewer, Devon D.</td>\n",
       "      <td>2248</td>\n",
       "    </tr>\n",
       "    <tr>\n",
       "      <th>13</th>\n",
       "      <td>14</td>\n",
       "      <td>Buckley, Wendi G.</td>\n",
       "      <td>2242</td>\n",
       "    </tr>\n",
       "    <tr>\n",
       "      <th>11</th>\n",
       "      <td>12</td>\n",
       "      <td>Chen, Lindsay M.</td>\n",
       "      <td>2168</td>\n",
       "    </tr>\n",
       "    <tr>\n",
       "      <th>2</th>\n",
       "      <td>3</td>\n",
       "      <td>Cline, Pablo Y.</td>\n",
       "      <td>2116</td>\n",
       "    </tr>\n",
       "    <tr>\n",
       "      <th>5</th>\n",
       "      <td>6</td>\n",
       "      <td>Collins, Holly E.</td>\n",
       "      <td>2186</td>\n",
       "    </tr>\n",
       "    <tr>\n",
       "      <th>6</th>\n",
       "      <td>7</td>\n",
       "      <td>Cook, Chadwick P.</td>\n",
       "      <td>2123</td>\n",
       "    </tr>\n",
       "    <tr>\n",
       "      <th>10</th>\n",
       "      <td>11</td>\n",
       "      <td>Dickson, Sonya E.</td>\n",
       "      <td>2152</td>\n",
       "    </tr>\n",
       "    <tr>\n",
       "      <th>7</th>\n",
       "      <td>8</td>\n",
       "      <td>Dyer, Julie E.</td>\n",
       "      <td>2273</td>\n",
       "    </tr>\n",
       "    <tr>\n",
       "      <th>14</th>\n",
       "      <td>15</td>\n",
       "      <td>Finley, Kari D.</td>\n",
       "      <td>2112</td>\n",
       "    </tr>\n",
       "    <tr>\n",
       "      <th>22</th>\n",
       "      <td>23</td>\n",
       "      <td>Flowers, Janet K.</td>\n",
       "      <td>2190</td>\n",
       "    </tr>\n",
       "    <tr>\n",
       "      <th>16</th>\n",
       "      <td>17</td>\n",
       "      <td>Franco, Seth D.</td>\n",
       "      <td>2092</td>\n",
       "    </tr>\n",
       "    <tr>\n",
       "      <th>0</th>\n",
       "      <td>1</td>\n",
       "      <td>Fuller, Nicole T.</td>\n",
       "      <td>2161</td>\n",
       "    </tr>\n",
       "    <tr>\n",
       "      <th>8</th>\n",
       "      <td>9</td>\n",
       "      <td>King, Daphne X.</td>\n",
       "      <td>2153</td>\n",
       "    </tr>\n",
       "    <tr>\n",
       "      <th>12</th>\n",
       "      <td>13</td>\n",
       "      <td>Marks, Katina Y.</td>\n",
       "      <td>2177</td>\n",
       "    </tr>\n",
       "    <tr>\n",
       "      <th>21</th>\n",
       "      <td>22</td>\n",
       "      <td>Mc Millan, Tonia O.</td>\n",
       "      <td>2160</td>\n",
       "    </tr>\n",
       "    <tr>\n",
       "      <th>18</th>\n",
       "      <td>19</td>\n",
       "      <td>Moody, Bernard L.</td>\n",
       "      <td>2158</td>\n",
       "    </tr>\n",
       "    <tr>\n",
       "      <th>3</th>\n",
       "      <td>4</td>\n",
       "      <td>Nielsen, Darnell O.</td>\n",
       "      <td>2115</td>\n",
       "    </tr>\n",
       "    <tr>\n",
       "      <th>1</th>\n",
       "      <td>2</td>\n",
       "      <td>Palmer, Christine W.</td>\n",
       "      <td>2252</td>\n",
       "    </tr>\n",
       "    <tr>\n",
       "      <th>19</th>\n",
       "      <td>20</td>\n",
       "      <td>Riddle, Shelby P.</td>\n",
       "      <td>2164</td>\n",
       "    </tr>\n",
       "    <tr>\n",
       "      <th>4</th>\n",
       "      <td>5</td>\n",
       "      <td>Stuart, Desiree L.</td>\n",
       "      <td>2169</td>\n",
       "    </tr>\n",
       "    <tr>\n",
       "      <th>9</th>\n",
       "      <td>10</td>\n",
       "      <td>Vang, Jean P.</td>\n",
       "      <td>2179</td>\n",
       "    </tr>\n",
       "    <tr>\n",
       "      <th>15</th>\n",
       "      <td>16</td>\n",
       "      <td>Walton, Chadwick U.</td>\n",
       "      <td>2205</td>\n",
       "    </tr>\n",
       "  </tbody>\n",
       "</table>\n",
       "</div>"
      ],
      "text/plain": [
       "    IDVendedor Nombre Apellido Vendedor  Cantidad de productos vendidos\n",
       "17          18      Bartlett, Warren C.                            2205\n",
       "20          21         Brewer, Devon D.                            2248\n",
       "13          14        Buckley, Wendi G.                            2242\n",
       "11          12         Chen, Lindsay M.                            2168\n",
       "2            3          Cline, Pablo Y.                            2116\n",
       "5            6        Collins, Holly E.                            2186\n",
       "6            7        Cook, Chadwick P.                            2123\n",
       "10          11        Dickson, Sonya E.                            2152\n",
       "7            8           Dyer, Julie E.                            2273\n",
       "14          15          Finley, Kari D.                            2112\n",
       "22          23        Flowers, Janet K.                            2190\n",
       "16          17          Franco, Seth D.                            2092\n",
       "0            1        Fuller, Nicole T.                            2161\n",
       "8            9          King, Daphne X.                            2153\n",
       "12          13         Marks, Katina Y.                            2177\n",
       "21          22      Mc Millan, Tonia O.                            2160\n",
       "18          19        Moody, Bernard L.                            2158\n",
       "3            4      Nielsen, Darnell O.                            2115\n",
       "1            2     Palmer, Christine W.                            2252\n",
       "19          20        Riddle, Shelby P.                            2164\n",
       "4            5       Stuart, Desiree L.                            2169\n",
       "9           10            Vang, Jean P.                            2179\n",
       "15          16      Walton, Chadwick U.                            2205"
      ]
     },
     "execution_count": 54,
     "metadata": {},
     "output_type": "execute_result"
    }
   ],
   "source": [
    "from src.design_patterns.strategy import ProductSalesByEmployee\n",
    "report = ProductSalesByEmployee()\n",
    "report.generate_report(df_sales, \"EmployeeName\")"
   ]
  },
  {
   "cell_type": "code",
   "execution_count": 45,
   "id": "b0259cc7",
   "metadata": {},
   "outputs": [
    {
     "data": {
      "text/plain": [
       "<module 'src.design_patterns.strategy' from 'c:\\\\Users\\\\veron\\\\OneDrive\\\\Documentos\\\\curso Henry\\\\Proyecto-Final\\\\src\\\\design_patterns\\\\strategy.py'>"
      ]
     },
     "execution_count": 45,
     "metadata": {},
     "output_type": "execute_result"
    }
   ],
   "source": [
    "import importlib\n",
    "import src.design_patterns.strategy\n",
    "importlib.reload(src.design_patterns.strategy)"
   ]
  }
 ],
 "metadata": {
  "kernelspec": {
   "display_name": "env-final",
   "language": "python",
   "name": "python3"
  },
  "language_info": {
   "codemirror_mode": {
    "name": "ipython",
    "version": 3
   },
   "file_extension": ".py",
   "mimetype": "text/x-python",
   "name": "python",
   "nbconvert_exporter": "python",
   "pygments_lexer": "ipython3",
   "version": "3.13.3"
  }
 },
 "nbformat": 4,
 "nbformat_minor": 5
}
